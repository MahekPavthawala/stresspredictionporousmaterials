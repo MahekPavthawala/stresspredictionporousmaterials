{
  "nbformat": 4,
  "nbformat_minor": 0,
  "metadata": {
    "colab": {
      "provenance": []
    },
    "kernelspec": {
      "name": "python3",
      "display_name": "Python 3"
    },
    "language_info": {
      "name": "python"
    },
    "accelerator": "GPU"
  },
  "cells": [
    {
      "cell_type": "code",
      "execution_count": null,
      "metadata": {
        "id": "7n_47qCNYB3I"
      },
      "outputs": [],
      "source": [
        "import warnings\n",
        "warnings.filterwarnings(\"ignore\")\n",
        "import keras\n",
        "import tensorflow as tf\n",
        "from tensorflow import keras\n",
        "from tensorflow.keras.models import Sequential, Model\n",
        "from tensorflow.keras.layers import Dense, Dropout, Flatten, Input\n",
        "from tensorflow.keras.layers import Conv2D, MaxPooling2D, UpSampling2D, UpSampling3D, Conv2DTranspose, concatenate\n",
        "from tensorflow.keras.layers import BatchNormalization\n",
        "from keras.backend import set_session\n",
        "from keras.backend import clear_session\n",
        "from keras.backend import get_session\n",
        "\n",
        "\n",
        "import numpy as np\n",
        "from numpy import unravel_index\n",
        "import pandas as pd\n",
        "\n",
        "from os import listdir\n",
        "import os, os.path\n",
        "\n",
        "import glob\n",
        "\n",
        "import sklearn\n",
        "from sklearn.preprocessing import StandardScaler\n",
        "from sklearn.model_selection import train_test_split\n",
        "import skimage.measure\n",
        "from sklearn import metrics\n",
        "import matplotlib.pyplot as plt\n",
        "from sklearn.preprocessing import normalize\n",
        "from sklearn.metrics import r2_score\n",
        "\n",
        "from PIL import Image\n",
        "\n",
        "import re\n",
        "import gc\n",
        "\n",
        "import time"
      ]
    },
    {
      "cell_type": "code",
      "source": [
        "from google.colab import drive\n",
        "drive.mount('/content/drive', force_remount=True)"
      ],
      "metadata": {
        "colab": {
          "base_uri": "https://localhost:8080/"
        },
        "id": "D8tapQwPYFTM",
        "outputId": "89c722c9-c7f7-4eed-e069-49402747cd4b"
      },
      "execution_count": null,
      "outputs": [
        {
          "output_type": "stream",
          "name": "stdout",
          "text": [
            "Mounted at /content/drive\n"
          ]
        }
      ]
    },
    {
      "cell_type": "code",
      "source": [
        "filepath = '/content/drive/MyDrive/Dataset/Non_Uniform/Resized_New_Data/Images100x100_newData(maxpool_1ch)'\n",
        "imageDict = {}\n",
        "for filename in os.listdir(filepath):\n",
        "    path = os.path.join(filepath, filename)\n",
        "    key = filename.split('.')[0]\n",
        "    imageDict[key] = np.load(path,allow_pickle=True)\n",
        "    print('Loaded: '+ key)\n",
        "    print(imageDict[key].shape)\n",
        "\n",
        "\n",
        "plt.imshow(imageDict['data_2_105_74'][70,:,:,0])\n",
        "print(imageDict['data_2_105_74'][70].min())\n",
        "print(imageDict['data_2_105_74'][70].max())"
      ],
      "metadata": {
        "colab": {
          "base_uri": "https://localhost:8080/",
          "height": 674
        },
        "id": "dQTYBnskYHT6",
        "outputId": "6b015283-0058-4c27-a9b0-d41d7f19d3ae"
      },
      "execution_count": null,
      "outputs": [
        {
          "output_type": "stream",
          "name": "stdout",
          "text": [
            "Loaded: data_6_36_44\n",
            "(20, 100, 100, 1)\n",
            "Loaded: data_6_91_89\n",
            "(200, 100, 100, 1)\n",
            "Loaded: data_2_91_89\n",
            "(200, 100, 100, 1)\n",
            "Loaded: data_4_91_89\n",
            "(200, 100, 100, 1)\n",
            "Loaded: data_2_115_65\n",
            "(200, 100, 100, 1)\n",
            "Loaded: data_6_115_65\n",
            "(200, 100, 100, 1)\n",
            "Loaded: data_2_105_74\n",
            "(200, 100, 100, 1)\n",
            "Loaded: data_4_115_65\n",
            "(200, 100, 100, 1)\n",
            "Loaded: data_6_105_74\n",
            "(200, 100, 100, 1)\n",
            "Loaded: data_4_105_74\n",
            "(200, 100, 100, 1)\n",
            "0.0\n",
            "1.0\n"
          ]
        },
        {
          "output_type": "display_data",
          "data": {
            "text/plain": [
              "<Figure size 432x288 with 1 Axes>"
            ],
            "image/png": "[encoded data removed]"
          },
          "metadata": {
            "needs_background": "light"
          }
        }
      ]
    },
    {
      "cell_type": "code",
      "source": [
        "DIR = '/content/drive/MyDrive/Dataset/Non_Uniform/Resized_New_Data/Stress100x100_newData(normalized_max_1ch)'\n",
        "matrixDict = {}\n",
        "for filename in os.listdir(DIR):\n",
        "    path = os.path.join(DIR, filename)\n",
        "    key = filename.split('.')[0]\n",
        "    matrixDict[key] = np.load(path)\n",
        "    print('Loaded: '+ key)\n",
        "    print(matrixDict[key].shape)\n",
        "    \n",
        "plt.imshow(matrixDict['data_2_105_74'][70][:,:,0], cmap='hot')\n",
        "print(matrixDict['data_2_105_74'][70].min())\n",
        "print(matrixDict['data_2_105_74'][70].max())"
      ],
      "metadata": {
        "colab": {
          "base_uri": "https://localhost:8080/",
          "height": 637
        },
        "id": "8Hr6jmt-Yc57",
        "outputId": "566fc38e-c915-41f1-9b52-44a15d375a3f"
      },
      "execution_count": null,
      "outputs": [
        {
          "output_type": "stream",
          "name": "stdout",
          "text": [
            "Loaded: data_2_115_65\n",
            "(200, 100, 100, 1)\n",
            "Loaded: data_4_105_74\n",
            "(200, 100, 100, 1)\n",
            "Loaded: data_4_115_65\n",
            "(200, 100, 100, 1)\n",
            "Loaded: data_6_105_74\n",
            "(200, 100, 100, 1)\n",
            "Loaded: data_2_105_74\n",
            "(200, 100, 100, 1)\n",
            "Loaded: data_4_91_89\n",
            "(200, 100, 100, 1)\n",
            "Loaded: data_2_91_89\n",
            "(200, 100, 100, 1)\n",
            "Loaded: data_6_115_65\n",
            "(200, 100, 100, 1)\n",
            "Loaded: data_6_91_89\n",
            "(200, 100, 100, 1)\n",
            "-0.049080558180343604\n",
            "3.4416503156260663\n"
          ]
        },
        {
          "output_type": "display_data",
          "data": {
            "text/plain": [
              "<Figure size 432x288 with 1 Axes>"
            ],
            "image/png": "[encoded data removed]"
          },
          "metadata": {
            "needs_background": "light"
          }
        }
      ]
    },
    {
      "cell_type": "code",
      "source": [
        "# Combine X datas\n",
        "x = np.concatenate((imageDict['data_2_105_74'], imageDict['data_2_115_65'],\n",
        "                    imageDict['data_2_91_89'],imageDict['data_4_105_74'],imageDict['data_4_115_65'],\n",
        "                    imageDict['data_4_91_89'], imageDict['data_6_91_89'], imageDict['data_6_105_74'],\n",
        "                    imageDict['data_6_115_65'],), axis = 0)   \n",
        "x.shape"
      ],
      "metadata": {
        "colab": {
          "base_uri": "https://localhost:8080/"
        },
        "id": "ic0h7VaDYfaP",
        "outputId": "9fa5c22c-0bdf-4f3a-ab64-f200c7a51c36"
      },
      "execution_count": null,
      "outputs": [
        {
          "output_type": "execute_result",
          "data": {
            "text/plain": [
              "(1800, 100, 100, 1)"
            ]
          },
          "metadata": {},
          "execution_count": 5
        }
      ]
    },
    {
      "cell_type": "code",
      "source": [
        "# Combine Y datas \n",
        "y = np.concatenate((matrixDict['data_2_105_74'], matrixDict['data_2_115_65'],\n",
        "                    matrixDict['data_2_91_89'],matrixDict['data_4_105_74'],matrixDict['data_4_115_65'],\n",
        "                    matrixDict['data_4_91_89'], matrixDict['data_6_91_89'], matrixDict['data_6_105_74'],\n",
        "                    matrixDict['data_6_115_65'],), axis = 0) \n",
        "y.shape"
      ],
      "metadata": {
        "colab": {
          "base_uri": "https://localhost:8080/"
        },
        "id": "KSLk0RmHYhby",
        "outputId": "a29e11e3-6a67-4b71-fcb5-e37a82065fc8"
      },
      "execution_count": null,
      "outputs": [
        {
          "output_type": "execute_result",
          "data": {
            "text/plain": [
              "(1800, 100, 100, 1)"
            ]
          },
          "metadata": {},
          "execution_count": 6
        }
      ]
    },
    {
      "cell_type": "code",
      "source": [
        "# Since there are total 1100 images,\n",
        "# training data is 90% : 990\n",
        "# testing data is 10% : 110\n",
        "x_train, x_test, y_train, y_test = train_test_split(x, y,\n",
        "                                                    test_size=0.1, \n",
        "                                                    random_state=42)\n",
        "\n",
        "print('Shape of x_train',x_train.shape,'\\n',\n",
        "      'Shape of x_test',x_test.shape,'\\n', \n",
        "      'Shape of y_train',y_train.shape,'\\n', \n",
        "      'Shape of y_test',y_test.shape)"
      ],
      "metadata": {
        "colab": {
          "base_uri": "https://localhost:8080/"
        },
        "id": "0j4RP8vcYjR1",
        "outputId": "a531547d-3dbc-497e-8768-ad07ff2cdfb6"
      },
      "execution_count": null,
      "outputs": [
        {
          "output_type": "stream",
          "name": "stdout",
          "text": [
            "Shape of x_train (1620, 100, 100, 1) \n",
            " Shape of x_test (180, 100, 100, 1) \n",
            " Shape of y_train (1620, 100, 100, 1) \n",
            " Shape of y_test (180, 100, 100, 1)\n"
          ]
        }
      ]
    },
    {
      "cell_type": "code",
      "source": [
        "# For observing effects of data size, \n",
        "\n",
        "idx = np.random.randint(1620, size=100)\n",
        "x_train_100 = x_train[idx,:,:,:]\n",
        "y_train_100 = y_train[idx,:,:,:]\n",
        "print('Shape of x_train_100',x_train_100.shape,'\\n',\n",
        "      'Shape of y_train_100',y_train_100.shape,'\\n')\n",
        "\n",
        "idx = np.random.randint(1620, size=300)\n",
        "x_train_300 = x_train[idx,:,:,:]\n",
        "y_train_300 = y_train[idx,:,:,:]\n",
        "print('Shape of x_train_300',x_train_300.shape,'\\n',\n",
        "      'Shape of y_train_300',y_train_300.shape,'\\n')\n",
        "\n",
        "idx = np.random.randint(1620, size=500)\n",
        "x_train_500 = x_train[idx,:,:,:]\n",
        "y_train_500 = y_train[idx,:,:,:]\n",
        "print('Shape of x_train_500',x_train_500.shape,'\\n',\n",
        "      'Shape of y_train_500',y_train_500.shape,'\\n')\n",
        "\n",
        "idx = np.random.randint(1620, size=700)\n",
        "x_train_700 = x_train[idx,:,:,:]\n",
        "y_train_700 = y_train[idx,:,:,:]\n",
        "print('Shape of x_train_700',x_train_700.shape,'\\n',\n",
        "      'Shape of y_train_700',y_train_700.shape,'\\n')\n",
        "\n",
        "idx = np.random.randint(1620, size=900)\n",
        "x_train_900 = x_train[idx,:,:,:]\n",
        "y_train_900 = y_train[idx,:,:,:]\n",
        "print('Shape of x_train_900',x_train_900.shape,'\\n',\n",
        "      'Shape of y_train_900',y_train_900.shape,'\\n')\n",
        "\n",
        "idx = np.random.randint(1620, size=1100)\n",
        "x_train_1100 = x_train[idx,:,:,:]\n",
        "y_train_1100 = y_train[idx,:,:,:]\n",
        "print('Shape of x_train_1100',x_train_1100.shape,'\\n',\n",
        "      'Shape of y_train_1100',y_train_1100.shape,'\\n')\n",
        "\n",
        "idx = np.random.randint(1620, size=1300)\n",
        "x_train_1300 = x_train[idx,:,:,:]\n",
        "y_train_1300 = y_train[idx,:,:,:]\n",
        "print('Shape of x_train_1300',x_train_1300.shape,'\\n',\n",
        "      'Shape of y_train_1300',y_train_1300.shape,'\\n')\n",
        "\n",
        "x_train_1620 = np.copy(x_train)\n",
        "y_train_1620 = np.copy(y_train)\n",
        "print('Shape of x_train_1620',x_train_1620.shape,'\\n',\n",
        "      'Shape of y_train_1620',y_train_1620.shape)"
      ],
      "metadata": {
        "colab": {
          "base_uri": "https://localhost:8080/"
        },
        "id": "EL_vR_YXYnjf",
        "outputId": "f2c90277-41c3-4068-f50e-b57f6e5f56eb"
      },
      "execution_count": null,
      "outputs": [
        {
          "output_type": "stream",
          "name": "stdout",
          "text": [
            "Shape of x_train_100 (100, 100, 100, 1) \n",
            " Shape of y_train_100 (100, 100, 100, 1) \n",
            "\n",
            "Shape of x_train_300 (300, 100, 100, 1) \n",
            " Shape of y_train_300 (300, 100, 100, 1) \n",
            "\n",
            "Shape of x_train_500 (500, 100, 100, 1) \n",
            " Shape of y_train_500 (500, 100, 100, 1) \n",
            "\n",
            "Shape of x_train_700 (700, 100, 100, 1) \n",
            " Shape of y_train_700 (700, 100, 100, 1) \n",
            "\n",
            "Shape of x_train_900 (900, 100, 100, 1) \n",
            " Shape of y_train_900 (900, 100, 100, 1) \n",
            "\n",
            "Shape of x_train_1100 (1100, 100, 100, 1) \n",
            " Shape of y_train_1100 (1100, 100, 100, 1) \n",
            "\n",
            "Shape of x_train_1300 (1300, 100, 100, 1) \n",
            " Shape of y_train_1300 (1300, 100, 100, 1) \n",
            "\n",
            "Shape of x_train_1620 (1620, 100, 100, 1) \n",
            " Shape of y_train_1620 (1620, 100, 100, 1)\n"
          ]
        }
      ]
    },
    {
      "cell_type": "code",
      "source": [
        "f = plt.figure()\n",
        "f.add_subplot(1,2, 1)\n",
        "plt.imshow(x_train_100[70][:,:,0])\n",
        "f.add_subplot(1,2, 2)\n",
        "plt.imshow(y_train_100[70][:,:,0])\n",
        "plt.show(block=True)\n",
        "print(y_train_100[70])"
      ],
      "metadata": {
        "colab": {
          "base_uri": "https://localhost:8080/",
          "height": 1000
        },
        "id": "KQF8XO_fYqTr",
        "outputId": "afbe6326-caed-4cef-a20a-b50f2c7227d6"
      },
      "execution_count": null,
      "outputs": [
        {
          "output_type": "display_data",
          "data": {
            "text/plain": [
              "<Figure size 432x288 with 2 Axes>"
            ],
            "image/png": "[encoded data removed]"
          },
          "metadata": {
            "needs_background": "light"
          }
        },
        {
          "output_type": "stream",
          "name": "stdout",
          "text": [
            "[[[1.04267305]\n",
            "  [1.04285747]\n",
            "  [1.04302282]\n",
            "  ...\n",
            "  [1.08877679]\n",
            "  [1.08972829]\n",
            "  [1.09066378]]\n",
            "\n",
            " [[1.04324851]\n",
            "  [1.04341395]\n",
            "  [1.04387876]\n",
            "  ...\n",
            "  [1.08913908]\n",
            "  [1.09011157]\n",
            "  [1.09106804]]\n",
            "\n",
            " [[1.04380163]\n",
            "  [1.04462211]\n",
            "  [1.04425087]\n",
            "  ...\n",
            "  [1.08983044]\n",
            "  [1.09063044]\n",
            "  [1.09145723]]\n",
            "\n",
            " ...\n",
            "\n",
            " [[1.69702161]\n",
            "  [1.6458668 ]\n",
            "  [1.59446613]\n",
            "  ...\n",
            "  [1.70401833]\n",
            "  [1.7647857 ]\n",
            "  [1.82381838]]\n",
            "\n",
            " [[1.69672476]\n",
            "  [1.64542167]\n",
            "  [1.59514756]\n",
            "  ...\n",
            "  [1.70944644]\n",
            "  [1.76881411]\n",
            "  [1.82792583]]\n",
            "\n",
            " [[1.69640782]\n",
            "  [1.64495579]\n",
            "  [1.59496951]\n",
            "  ...\n",
            "  [1.71367172]\n",
            "  [1.77311842]\n",
            "  [1.83230917]]]\n"
          ]
        }
      ]
    },
    {
      "cell_type": "code",
      "source": [
        "# A function calculating Percentage Error\n",
        "def percentage_err_3channels(y_pred, y_test):\n",
        "    arr = []\n",
        "    for idx in range(len(y_test)):\n",
        "        if(y_test[idx] == 0):\n",
        "            continue\n",
        "        else:\n",
        "            err = ((np.abs(y_pred[idx] - y_test[idx]) / y_test[idx]) * 100)\n",
        "            arr.append(err)\n",
        "    \n",
        "    return abs(np.mean(arr))\n",
        "\n",
        "# A Function to calculate R2 for each pore\n",
        "def calculateR2_for_pores(preds, y_test, AVMat):\n",
        "    b = []\n",
        "    c = []\n",
        "    TSS = 0\n",
        "    RSS = 0\n",
        "    \n",
        "    for i in range(len(y_test)):\n",
        "        b = ((y_test[i] - preds[i])**2)\n",
        "        RSS = RSS + b\n",
        "        \n",
        "    for i in range(len(y_test)):\n",
        "        c = ((y_test[i] -  AVMat)**2)\n",
        "        TSS = TSS + c\n",
        "\n",
        "    R2 = (abs(1 - (RSS/TSS)))\n",
        "    return R2.mean()\n",
        "    \n",
        "# A function to obtain AVMat\n",
        "def calculateAVMat(y_test):\n",
        "    AVMat = np.zeros((100,100,1))\n",
        "\n",
        "    for i in range(len(y_test)):\n",
        "        AVMat = AVMat + (y_test[i].reshape(100,100,1))\n",
        "    \n",
        "    AVMat = AVMat/len(y_test)\n",
        "    \n",
        "    return AVMat\n",
        "\n",
        "# A function calculating MaxStress\n",
        "def calculateMaxStress(data):\n",
        "    resArray = []\n",
        "    \n",
        "    for i in range(len(data)):\n",
        "        resArray.append(np.amax(data[i].reshape(1,10000)))\n",
        "    \n",
        "    return resArray\n"
      ],
      "metadata": {
        "id": "285KGCFLYud1"
      },
      "execution_count": null,
      "outputs": []
    },
    {
      "cell_type": "code",
      "source": [
        "# Function reset the model\n",
        "def reset_keras(model):\n",
        "    sess = tf.compat.v1.keras.backend.get_session()\n",
        "    clear_session()\n",
        "    sess.close()\n",
        "    sess = tf.compat.v1.keras.backend.get_session()\n",
        "\n",
        "    try:\n",
        "        del model\n",
        "    except:\n",
        "        pass\n",
        "\n",
        "    print(gc.collect()) # if it's done something you should see a number being outputted\n",
        "\n",
        "    # use the same config as you used to create the session\n",
        "    config = tf.compat.v1.ConfigProto()\n",
        "    config.gpu_options.per_process_gpu_memory_fraction = 1\n",
        "    config.gpu_options.visible_device_list = \"0\"\n",
        "    tf.compat.v1.keras.backend.set_session(tf.compat.v1.Session(config=config))"
      ],
      "metadata": {
        "id": "OwIQLjIDYwu3"
      },
      "execution_count": null,
      "outputs": []
    },
    {
      "cell_type": "code",
      "source": [
        "# Setting training configuration\n",
        "batch_size = 100 #initially 100\n",
        "epochs = 30 #initially 30\n",
        "AVMat = []\n",
        "R2Array_train = []\n",
        "R2Array_test = []\n",
        "err_train_3ch = []\n",
        "err_test_3ch = []"
      ],
      "metadata": {
        "id": "NGg3LDQnYzYg"
      },
      "execution_count": null,
      "outputs": []
    },
    {
      "cell_type": "code",
      "source": [
        "AVMat = calculateAVMat(y_train)"
      ],
      "metadata": {
        "id": "Nx-QzYCwY2-5"
      },
      "execution_count": null,
      "outputs": []
    },
    {
      "cell_type": "code",
      "source": [
        "config = tf.compat.v1.ConfigProto()\n",
        "config.gpu_options.allow_growth = True\n",
        "sess = tf.compat.v1.Session(config=config)"
      ],
      "metadata": {
        "id": "62lmujnSY4cA"
      },
      "execution_count": null,
      "outputs": []
    },
    {
      "cell_type": "code",
      "source": [
        "# U-Net model\n",
        "def buildModel():\n",
        "    img_input = Input(shape=(100,100,1))\n",
        "\n",
        "    # Block 1\n",
        "    x = Conv2D(64, (3, 3), activation='relu', padding='same')(img_input)\n",
        "    x = Conv2D(64, (3, 3), activation='relu', padding='same')(x)\n",
        "    x = Conv2D(64, (3, 3), activation='relu', padding='same')(x)\n",
        "    block1_conv2 = Conv2D(64, (3, 3), activation='relu', padding='same')(x)\n",
        "    x = MaxPooling2D((2, 2), strides=(2, 2), name='block1_pool')(block1_conv2)\n",
        "\n",
        "    # Block 2\n",
        "    x = Conv2D(128, (3, 3), activation='relu', padding='same')(x)\n",
        "    x = Conv2D(128, (3, 3), activation='relu', padding='same')(x)\n",
        "    x = Conv2D(128, (3, 3), activation='relu', padding='same')(x)\n",
        "    block2_conv2 = Conv2D(128, (3, 3), activation='relu', padding='same')(x)\n",
        "    x = MaxPooling2D((2, 2), strides=(2, 2), name='block2_pool')(block2_conv2)\n",
        "\n",
        "    # Block 3\n",
        "\n",
        "    x = Conv2D(256, (3, 3), activation='relu', padding='same')(x)\n",
        "    x = Conv2D(256, (3, 3), activation='relu', padding='same')(x)\n",
        "    x = Conv2D(256, (3, 3), activation='relu', padding='same')(x)\n",
        "    \n",
        "    # Block 4\n",
        "    x = Conv2D(256, (3, 3), activation='relu', padding='same')(x)\n",
        "    x = Conv2D(128, (3, 3), activation='relu', padding='same')(x)\n",
        "    x = Conv2D(128, (3, 3), activation='relu', padding='same')(x)\n",
        "    #x = UpSampling2D(size=(2,2), data_format=None, interpolation='nearest')(x)\n",
        "    x = concatenate([UpSampling2D((2, 2))(x), block2_conv2], axis=-1)\n",
        "    \n",
        "    # Block 5\n",
        "    x = Conv2D(128, (3, 3), activation='relu', padding='same')(x)\n",
        "    x = Conv2D(64, (3, 3), activation='relu', padding='same')(x)\n",
        "    x = Conv2D(64, (3, 3), activation='relu', padding='same')(x)\n",
        "    #x = UpSampling2D(size=(2,2), data_format=None, interpolation='nearest')(x)\n",
        "    x = concatenate([UpSampling2D((2, 2))(x), block1_conv2], axis=-1)\n",
        "    x = Conv2DTranspose(1, kernel_size=(3,3), padding='same', data_format=None, activation='relu')(x)\n",
        "    \n",
        "    \n",
        "    model = Model(inputs = img_input, outputs = x)\n",
        "    \n",
        "    model.compile(loss=keras.losses.mean_squared_error, optimizer=keras.optimizers.Adam())\n",
        "    model.summary()\n",
        "    return model"
      ],
      "metadata": {
        "id": "alCceqQ-b07j"
      },
      "execution_count": null,
      "outputs": []
    },
    {
      "cell_type": "code",
      "source": [
        "#Training with 100 data\n",
        "model = buildModel()\n",
        "model.fit(x_train_100, y_train_100, batch_size=batch_size, epochs=epochs, verbose=1)"
      ],
      "metadata": {
        "colab": {
          "base_uri": "https://localhost:8080/"
        },
        "id": "uCicco5ocalJ",
        "outputId": "8fe61765-d4bf-4618-827b-82c2c414ca98"
      },
      "execution_count": null,
      "outputs": [
        {
          "output_type": "stream",
          "name": "stdout",
          "text": [
            "Model: \"model\"\n",
            "__________________________________________________________________________________________________\n",
            " Layer (type)                   Output Shape         Param #     Connected to                     \n",
            "==================================================================================================\n",
            " input_1 (InputLayer)           [(None, 100, 100, 1  0           []                               \n",
            "                                )]                                                                \n",
            "                                                                                                  \n",
            " conv2d (Conv2D)                (None, 100, 100, 64  640         ['input_1[0][0]']                \n",
            "                                )                                                                 \n",
            "                                                                                                  \n",
            " conv2d_1 (Conv2D)              (None, 100, 100, 64  36928       ['conv2d[0][0]']                 \n",
            "                                )                                                                 \n",
            "                                                                                                  \n",
            " conv2d_2 (Conv2D)              (None, 100, 100, 64  36928       ['conv2d_1[0][0]']               \n",
            "                                )                                                                 \n",
            "                                                                                                  \n",
            " conv2d_3 (Conv2D)              (None, 100, 100, 64  36928       ['conv2d_2[0][0]']               \n",
            "                                )                                                                 \n",
            "                                                                                                  \n",
            " block1_pool (MaxPooling2D)     (None, 50, 50, 64)   0           ['conv2d_3[0][0]']               \n",
            "                                                                                                  \n",
            " conv2d_4 (Conv2D)              (None, 50, 50, 128)  73856       ['block1_pool[0][0]']            \n",
            "                                                                                                  \n",
            " conv2d_5 (Conv2D)              (None, 50, 50, 128)  147584      ['conv2d_4[0][0]']               \n",
            "                                                                                                  \n",
            " conv2d_6 (Conv2D)              (None, 50, 50, 128)  147584      ['conv2d_5[0][0]']               \n",
            "                                                                                                  \n",
            " conv2d_7 (Conv2D)              (None, 50, 50, 128)  147584      ['conv2d_6[0][0]']               \n",
            "                                                                                                  \n",
            " block2_pool (MaxPooling2D)     (None, 25, 25, 128)  0           ['conv2d_7[0][0]']               \n",
            "                                                                                                  \n",
            " conv2d_8 (Conv2D)              (None, 25, 25, 256)  295168      ['block2_pool[0][0]']            \n",
            "                                                                                                  \n",
            " conv2d_9 (Conv2D)              (None, 25, 25, 256)  590080      ['conv2d_8[0][0]']               \n",
            "                                                                                                  \n",
            " conv2d_10 (Conv2D)             (None, 25, 25, 256)  590080      ['conv2d_9[0][0]']               \n",
            "                                                                                                  \n",
            " conv2d_11 (Conv2D)             (None, 25, 25, 256)  590080      ['conv2d_10[0][0]']              \n",
            "                                                                                                  \n",
            " conv2d_12 (Conv2D)             (None, 25, 25, 128)  295040      ['conv2d_11[0][0]']              \n",
            "                                                                                                  \n",
            " conv2d_13 (Conv2D)             (None, 25, 25, 128)  147584      ['conv2d_12[0][0]']              \n",
            "                                                                                                  \n",
            " up_sampling2d (UpSampling2D)   (None, 50, 50, 128)  0           ['conv2d_13[0][0]']              \n",
            "                                                                                                  \n",
            " concatenate (Concatenate)      (None, 50, 50, 256)  0           ['up_sampling2d[0][0]',          \n",
            "                                                                  'conv2d_7[0][0]']               \n",
            "                                                                                                  \n",
            " conv2d_14 (Conv2D)             (None, 50, 50, 128)  295040      ['concatenate[0][0]']            \n",
            "                                                                                                  \n",
            " conv2d_15 (Conv2D)             (None, 50, 50, 64)   73792       ['conv2d_14[0][0]']              \n",
            "                                                                                                  \n",
            " conv2d_16 (Conv2D)             (None, 50, 50, 64)   36928       ['conv2d_15[0][0]']              \n",
            "                                                                                                  \n",
            " up_sampling2d_1 (UpSampling2D)  (None, 100, 100, 64  0          ['conv2d_16[0][0]']              \n",
            "                                )                                                                 \n",
            "                                                                                                  \n",
            " concatenate_1 (Concatenate)    (None, 100, 100, 12  0           ['up_sampling2d_1[0][0]',        \n",
            "                                8)                                'conv2d_3[0][0]']               \n",
            "                                                                                                  \n",
            " conv2d_transpose (Conv2DTransp  (None, 100, 100, 1)  1153       ['concatenate_1[0][0]']          \n",
            " ose)                                                                                             \n",
            "                                                                                                  \n",
            "==================================================================================================\n",
            "Total params: 3,542,977\n",
            "Trainable params: 3,542,977\n",
            "Non-trainable params: 0\n",
            "__________________________________________________________________________________________________\n",
            "Epoch 1/30\n",
            "1/1 [==============================] - 18s 18s/step - loss: 1.4897\n",
            "Epoch 2/30\n",
            "1/1 [==============================] - 1s 586ms/step - loss: 1.3609\n",
            "Epoch 3/30\n",
            "1/1 [==============================] - 1s 585ms/step - loss: 27.6319\n",
            "Epoch 4/30\n",
            "1/1 [==============================] - 1s 584ms/step - loss: 1.2797\n",
            "Epoch 5/30\n",
            "1/1 [==============================] - 1s 577ms/step - loss: 1.4171\n",
            "Epoch 6/30\n",
            "1/1 [==============================] - 1s 598ms/step - loss: 1.4448\n",
            "Epoch 7/30\n",
            "1/1 [==============================] - 1s 580ms/step - loss: 1.4509\n",
            "Epoch 8/30\n",
            "1/1 [==============================] - 1s 586ms/step - loss: 1.4473\n",
            "Epoch 9/30\n",
            "1/1 [==============================] - 1s 583ms/step - loss: 1.4365\n",
            "Epoch 10/30\n",
            "1/1 [==============================] - 1s 579ms/step - loss: 1.4163\n",
            "Epoch 11/30\n",
            "1/1 [==============================] - 1s 577ms/step - loss: 1.3796\n",
            "Epoch 12/30\n",
            "1/1 [==============================] - 1s 573ms/step - loss: 1.3098\n",
            "Epoch 13/30\n",
            "1/1 [==============================] - 1s 569ms/step - loss: 1.1682\n",
            "Epoch 14/30\n",
            "1/1 [==============================] - 1s 575ms/step - loss: 0.8858\n",
            "Epoch 15/30\n",
            "1/1 [==============================] - 1s 574ms/step - loss: 0.7003\n",
            "Epoch 16/30\n",
            "1/1 [==============================] - 1s 572ms/step - loss: 0.6978\n",
            "Epoch 17/30\n",
            "1/1 [==============================] - 1s 571ms/step - loss: 0.6196\n",
            "Epoch 18/30\n",
            "1/1 [==============================] - 1s 572ms/step - loss: 0.6499\n",
            "Epoch 19/30\n",
            "1/1 [==============================] - 1s 570ms/step - loss: 0.6242\n",
            "Epoch 20/30\n",
            "1/1 [==============================] - 1s 575ms/step - loss: 0.5794\n",
            "Epoch 21/30\n",
            "1/1 [==============================] - 1s 574ms/step - loss: 0.6125\n",
            "Epoch 22/30\n",
            "1/1 [==============================] - 1s 571ms/step - loss: 0.5858\n",
            "Epoch 23/30\n",
            "1/1 [==============================] - 1s 574ms/step - loss: 0.5632\n",
            "Epoch 24/30\n",
            "1/1 [==============================] - 1s 576ms/step - loss: 0.5697\n",
            "Epoch 25/30\n",
            "1/1 [==============================] - 1s 575ms/step - loss: 0.5666\n",
            "Epoch 26/30\n",
            "1/1 [==============================] - 1s 571ms/step - loss: 0.5526\n",
            "Epoch 27/30\n",
            "1/1 [==============================] - 1s 575ms/step - loss: 0.5512\n",
            "Epoch 28/30\n",
            "1/1 [==============================] - 1s 574ms/step - loss: 0.5512\n",
            "Epoch 29/30\n",
            "1/1 [==============================] - 1s 575ms/step - loss: 0.5393\n",
            "Epoch 30/30\n",
            "1/1 [==============================] - 1s 574ms/step - loss: 0.5339\n"
          ]
        },
        {
          "output_type": "execute_result",
          "data": {
            "text/plain": [
              "<keras.callbacks.History at 0x7f576c100d50>"
            ]
          },
          "metadata": {},
          "execution_count": 16
        }
      ]
    },
    {
      "cell_type": "code",
      "source": [
        "%%time\n",
        "preds_train = model.predict(x_train_100)\n",
        "preds = model.predict(x_test)"
      ],
      "metadata": {
        "colab": {
          "base_uri": "https://localhost:8080/"
        },
        "id": "uB3sCjbYyRyw",
        "outputId": "f9dea2a7-d1f9-4b3e-8218-c8544dedabf9"
      },
      "execution_count": null,
      "outputs": [
        {
          "output_type": "stream",
          "name": "stdout",
          "text": [
            "CPU times: user 2.82 s, sys: 25.9 ms, total: 2.85 s\n",
            "Wall time: 3.06 s\n"
          ]
        }
      ]
    },
    {
      "cell_type": "code",
      "source": [
        "y_train_maxStress = calculateMaxStress(y_train_100)\n",
        "preds_train_maxStress = calculateMaxStress(preds_train)\n",
        "preds_maxStress = calculateMaxStress(preds)\n",
        "y_test_maxStress = calculateMaxStress(y_test)"
      ],
      "metadata": {
        "id": "Rk8FlogFyXvS"
      },
      "execution_count": null,
      "outputs": []
    },
    {
      "cell_type": "code",
      "source": [
        "R2Array_train.append(calculateR2_for_pores(preds_train_maxStress, y_train_maxStress, AVMat))\n",
        "R2Array_test.append(calculateR2_for_pores(preds_maxStress, y_test_maxStress, AVMat))\n",
        "\n",
        "err_train_3ch.append(percentage_err_3channels(preds_train_maxStress, y_train_maxStress))\n",
        "err_test_3ch.append(percentage_err_3channels(preds_maxStress, y_test_maxStress))\n",
        "\n",
        "print(R2Array_train)\n",
        "print(R2Array_test)\n",
        "print(err_train_3ch)\n",
        "print(err_test_3ch)\n",
        "\n",
        "reset_keras(model)"
      ],
      "metadata": {
        "colab": {
          "base_uri": "https://localhost:8080/"
        },
        "id": "an1OH6WpyZne",
        "outputId": "40d3c810-2f88-453b-d841-bc3560718964"
      },
      "execution_count": null,
      "outputs": [
        {
          "output_type": "stream",
          "name": "stdout",
          "text": [
            "[0.11632775341056635]\n",
            "[0.11231994939767208]\n",
            "[79.52430054440384]\n",
            "[79.84819965667673]\n",
            "6565\n"
          ]
        }
      ]
    },
    {
      "cell_type": "code",
      "source": [
        "#Train with 300 data points\n",
        "model = buildModel()\n",
        "model.fit(x_train_300, y_train_300, batch_size=batch_size, epochs=epochs, verbose=1)"
      ],
      "metadata": {
        "colab": {
          "base_uri": "https://localhost:8080/"
        },
        "id": "10ew6uuHRE8m",
        "outputId": "c8a88874-89e4-403d-8999-b4ec7f84f70a"
      },
      "execution_count": null,
      "outputs": [
        {
          "output_type": "stream",
          "name": "stdout",
          "text": [
            "Model: \"model\"\n",
            "__________________________________________________________________________________________________\n",
            " Layer (type)                   Output Shape         Param #     Connected to                     \n",
            "==================================================================================================\n",
            " input_1 (InputLayer)           [(None, 100, 100, 1  0           []                               \n",
            "                                )]                                                                \n",
            "                                                                                                  \n",
            " conv2d (Conv2D)                (None, 100, 100, 64  640         ['input_1[0][0]']                \n",
            "                                )                                                                 \n",
            "                                                                                                  \n",
            " conv2d_1 (Conv2D)              (None, 100, 100, 64  36928       ['conv2d[0][0]']                 \n",
            "                                )                                                                 \n",
            "                                                                                                  \n",
            " conv2d_2 (Conv2D)              (None, 100, 100, 64  36928       ['conv2d_1[0][0]']               \n",
            "                                )                                                                 \n",
            "                                                                                                  \n",
            " conv2d_3 (Conv2D)              (None, 100, 100, 64  36928       ['conv2d_2[0][0]']               \n",
            "                                )                                                                 \n",
            "                                                                                                  \n",
            " block1_pool (MaxPooling2D)     (None, 50, 50, 64)   0           ['conv2d_3[0][0]']               \n",
            "                                                                                                  \n",
            " conv2d_4 (Conv2D)              (None, 50, 50, 128)  73856       ['block1_pool[0][0]']            \n",
            "                                                                                                  \n",
            " conv2d_5 (Conv2D)              (None, 50, 50, 128)  147584      ['conv2d_4[0][0]']               \n",
            "                                                                                                  \n",
            " conv2d_6 (Conv2D)              (None, 50, 50, 128)  147584      ['conv2d_5[0][0]']               \n",
            "                                                                                                  \n",
            " conv2d_7 (Conv2D)              (None, 50, 50, 128)  147584      ['conv2d_6[0][0]']               \n",
            "                                                                                                  \n",
            " block2_pool (MaxPooling2D)     (None, 25, 25, 128)  0           ['conv2d_7[0][0]']               \n",
            "                                                                                                  \n",
            " conv2d_8 (Conv2D)              (None, 25, 25, 256)  295168      ['block2_pool[0][0]']            \n",
            "                                                                                                  \n",
            " conv2d_9 (Conv2D)              (None, 25, 25, 256)  590080      ['conv2d_8[0][0]']               \n",
            "                                                                                                  \n",
            " conv2d_10 (Conv2D)             (None, 25, 25, 256)  590080      ['conv2d_9[0][0]']               \n",
            "                                                                                                  \n",
            " conv2d_11 (Conv2D)             (None, 25, 25, 256)  590080      ['conv2d_10[0][0]']              \n",
            "                                                                                                  \n",
            " conv2d_12 (Conv2D)             (None, 25, 25, 128)  295040      ['conv2d_11[0][0]']              \n",
            "                                                                                                  \n",
            " conv2d_13 (Conv2D)             (None, 25, 25, 128)  147584      ['conv2d_12[0][0]']              \n",
            "                                                                                                  \n",
            " up_sampling2d (UpSampling2D)   (None, 50, 50, 128)  0           ['conv2d_13[0][0]']              \n",
            "                                                                                                  \n",
            " concatenate (Concatenate)      (None, 50, 50, 256)  0           ['up_sampling2d[0][0]',          \n",
            "                                                                  'conv2d_7[0][0]']               \n",
            "                                                                                                  \n",
            " conv2d_14 (Conv2D)             (None, 50, 50, 128)  295040      ['concatenate[0][0]']            \n",
            "                                                                                                  \n",
            " conv2d_15 (Conv2D)             (None, 50, 50, 64)   73792       ['conv2d_14[0][0]']              \n",
            "                                                                                                  \n",
            " conv2d_16 (Conv2D)             (None, 50, 50, 64)   36928       ['conv2d_15[0][0]']              \n",
            "                                                                                                  \n",
            " up_sampling2d_1 (UpSampling2D)  (None, 100, 100, 64  0          ['conv2d_16[0][0]']              \n",
            "                                )                                                                 \n",
            "                                                                                                  \n",
            " concatenate_1 (Concatenate)    (None, 100, 100, 12  0           ['up_sampling2d_1[0][0]',        \n",
            "                                8)                                'conv2d_3[0][0]']               \n",
            "                                                                                                  \n",
            " conv2d_transpose (Conv2DTransp  (None, 100, 100, 1)  1153       ['concatenate_1[0][0]']          \n",
            " ose)                                                                                             \n",
            "                                                                                                  \n",
            "==================================================================================================\n",
            "Total params: 3,542,977\n",
            "Trainable params: 3,542,977\n",
            "Non-trainable params: 0\n",
            "__________________________________________________________________________________________________\n",
            "Epoch 1/30\n",
            "3/3 [==============================] - 3s 591ms/step - loss: 19.2590\n",
            "Epoch 2/30\n",
            "3/3 [==============================] - 2s 589ms/step - loss: 1.4246\n",
            "Epoch 3/30\n",
            "3/3 [==============================] - 2s 578ms/step - loss: 1.4948\n",
            "Epoch 4/30\n",
            "3/3 [==============================] - 2s 580ms/step - loss: 1.4534\n",
            "Epoch 5/30\n",
            "3/3 [==============================] - 2s 579ms/step - loss: 1.3147\n",
            "Epoch 6/30\n",
            "3/3 [==============================] - 2s 582ms/step - loss: 0.9213\n",
            "Epoch 7/30\n",
            "3/3 [==============================] - 2s 581ms/step - loss: 0.6715\n",
            "Epoch 8/30\n",
            "3/3 [==============================] - 2s 581ms/step - loss: 0.5806\n",
            "Epoch 9/30\n",
            "3/3 [==============================] - 2s 580ms/step - loss: 0.5446\n",
            "Epoch 10/30\n",
            "3/3 [==============================] - 2s 579ms/step - loss: 0.5052\n",
            "Epoch 11/30\n",
            "3/3 [==============================] - 2s 584ms/step - loss: 0.4652\n",
            "Epoch 12/30\n",
            "3/3 [==============================] - 2s 585ms/step - loss: 0.4263\n",
            "Epoch 13/30\n",
            "3/3 [==============================] - 2s 590ms/step - loss: 0.3954\n",
            "Epoch 14/30\n",
            "3/3 [==============================] - 2s 584ms/step - loss: 0.3504\n",
            "Epoch 15/30\n",
            "3/3 [==============================] - 2s 585ms/step - loss: 0.2860\n",
            "Epoch 16/30\n",
            "3/3 [==============================] - 2s 586ms/step - loss: 0.2890\n",
            "Epoch 17/30\n",
            "3/3 [==============================] - 2s 589ms/step - loss: 0.2492\n",
            "Epoch 18/30\n",
            "3/3 [==============================] - 2s 586ms/step - loss: 0.2045\n",
            "Epoch 19/30\n",
            "3/3 [==============================] - 2s 590ms/step - loss: 0.1877\n",
            "Epoch 20/30\n",
            "3/3 [==============================] - 2s 590ms/step - loss: 0.1777\n",
            "Epoch 21/30\n",
            "3/3 [==============================] - 2s 588ms/step - loss: 0.1679\n",
            "Epoch 22/30\n",
            "3/3 [==============================] - 2s 591ms/step - loss: 0.1566\n",
            "Epoch 23/30\n",
            "3/3 [==============================] - 2s 593ms/step - loss: 0.1457\n",
            "Epoch 24/30\n",
            "3/3 [==============================] - 2s 591ms/step - loss: 0.1376\n",
            "Epoch 25/30\n",
            "3/3 [==============================] - 2s 592ms/step - loss: 0.1314\n",
            "Epoch 26/30\n",
            "3/3 [==============================] - 2s 593ms/step - loss: 0.1229\n",
            "Epoch 27/30\n",
            "3/3 [==============================] - 2s 595ms/step - loss: 0.1162\n",
            "Epoch 28/30\n",
            "3/3 [==============================] - 2s 596ms/step - loss: 0.1108\n",
            "Epoch 29/30\n",
            "3/3 [==============================] - 2s 596ms/step - loss: 0.1044\n",
            "Epoch 30/30\n",
            "3/3 [==============================] - 2s 595ms/step - loss: 0.1013\n"
          ]
        },
        {
          "output_type": "execute_result",
          "data": {
            "text/plain": [
              "<keras.callbacks.History at 0x7f57e9754a10>"
            ]
          },
          "metadata": {},
          "execution_count": 20
        }
      ]
    },
    {
      "cell_type": "code",
      "source": [
        "%%time\n",
        "preds_train = model.predict(x_train_300)\n",
        "preds = model.predict(x_test)\n",
        "\n",
        "y_train_maxStress = calculateMaxStress(y_train_300)\n",
        "preds_train_maxStress = calculateMaxStress(preds_train)\n",
        "preds_maxStress = calculateMaxStress(preds)\n",
        "y_test_maxStress = calculateMaxStress(y_test)\n",
        "\n",
        "R2Array_train.append(calculateR2_for_pores(preds_train_maxStress, y_train_maxStress, AVMat))\n",
        "R2Array_test.append(calculateR2_for_pores(preds_maxStress, y_test_maxStress, AVMat))\n",
        "\n",
        "err_train_3ch.append(percentage_err_3channels(preds_train_maxStress, y_train_maxStress))\n",
        "err_test_3ch.append(percentage_err_3channels(preds_maxStress, y_test_maxStress))\n",
        "\n",
        "print(R2Array_train)\n",
        "print(R2Array_test)\n",
        "print(err_train_3ch)\n",
        "print(err_test_3ch)\n",
        "\n",
        "reset_keras(model)"
      ],
      "metadata": {
        "id": "hASVIukZTDLT",
        "colab": {
          "base_uri": "https://localhost:8080/"
        },
        "outputId": "92b36a71-3616-40d6-82cd-80a681e9e399"
      },
      "execution_count": null,
      "outputs": [
        {
          "output_type": "stream",
          "name": "stdout",
          "text": [
            "[0.11632775341056635, 0.8047277703437148]\n",
            "[0.11231994939767208, 0.806519120636976]\n",
            "[79.52430054440384, 28.740943999451854]\n",
            "[79.84819965667673, 27.89405207928108]\n",
            "1414\n",
            "CPU times: user 1.95 s, sys: 18.7 ms, total: 1.97 s\n",
            "Wall time: 2.06 s\n"
          ]
        }
      ]
    },
    {
      "cell_type": "code",
      "source": [
        "#Train with 500 data points\n",
        "model = buildModel()\n",
        "\n",
        "model.fit(x_train_500, y_train_500, \n",
        "          batch_size=batch_size, epochs=epochs, verbose=1)"
      ],
      "metadata": {
        "id": "wIpHQt1KTGw6",
        "colab": {
          "base_uri": "https://localhost:8080/"
        },
        "outputId": "6c8a36e3-1ae2-4c89-c15f-ab97dee5c745"
      },
      "execution_count": null,
      "outputs": [
        {
          "output_type": "stream",
          "name": "stdout",
          "text": [
            "Model: \"model\"\n",
            "__________________________________________________________________________________________________\n",
            " Layer (type)                   Output Shape         Param #     Connected to                     \n",
            "==================================================================================================\n",
            " input_1 (InputLayer)           [(None, 100, 100, 1  0           []                               \n",
            "                                )]                                                                \n",
            "                                                                                                  \n",
            " conv2d (Conv2D)                (None, 100, 100, 64  640         ['input_1[0][0]']                \n",
            "                                )                                                                 \n",
            "                                                                                                  \n",
            " conv2d_1 (Conv2D)              (None, 100, 100, 64  36928       ['conv2d[0][0]']                 \n",
            "                                )                                                                 \n",
            "                                                                                                  \n",
            " conv2d_2 (Conv2D)              (None, 100, 100, 64  36928       ['conv2d_1[0][0]']               \n",
            "                                )                                                                 \n",
            "                                                                                                  \n",
            " conv2d_3 (Conv2D)              (None, 100, 100, 64  36928       ['conv2d_2[0][0]']               \n",
            "                                )                                                                 \n",
            "                                                                                                  \n",
            " block1_pool (MaxPooling2D)     (None, 50, 50, 64)   0           ['conv2d_3[0][0]']               \n",
            "                                                                                                  \n",
            " conv2d_4 (Conv2D)              (None, 50, 50, 128)  73856       ['block1_pool[0][0]']            \n",
            "                                                                                                  \n",
            " conv2d_5 (Conv2D)              (None, 50, 50, 128)  147584      ['conv2d_4[0][0]']               \n",
            "                                                                                                  \n",
            " conv2d_6 (Conv2D)              (None, 50, 50, 128)  147584      ['conv2d_5[0][0]']               \n",
            "                                                                                                  \n",
            " conv2d_7 (Conv2D)              (None, 50, 50, 128)  147584      ['conv2d_6[0][0]']               \n",
            "                                                                                                  \n",
            " block2_pool (MaxPooling2D)     (None, 25, 25, 128)  0           ['conv2d_7[0][0]']               \n",
            "                                                                                                  \n",
            " conv2d_8 (Conv2D)              (None, 25, 25, 256)  295168      ['block2_pool[0][0]']            \n",
            "                                                                                                  \n",
            " conv2d_9 (Conv2D)              (None, 25, 25, 256)  590080      ['conv2d_8[0][0]']               \n",
            "                                                                                                  \n",
            " conv2d_10 (Conv2D)             (None, 25, 25, 256)  590080      ['conv2d_9[0][0]']               \n",
            "                                                                                                  \n",
            " conv2d_11 (Conv2D)             (None, 25, 25, 256)  590080      ['conv2d_10[0][0]']              \n",
            "                                                                                                  \n",
            " conv2d_12 (Conv2D)             (None, 25, 25, 128)  295040      ['conv2d_11[0][0]']              \n",
            "                                                                                                  \n",
            " conv2d_13 (Conv2D)             (None, 25, 25, 128)  147584      ['conv2d_12[0][0]']              \n",
            "                                                                                                  \n",
            " up_sampling2d (UpSampling2D)   (None, 50, 50, 128)  0           ['conv2d_13[0][0]']              \n",
            "                                                                                                  \n",
            " concatenate (Concatenate)      (None, 50, 50, 256)  0           ['up_sampling2d[0][0]',          \n",
            "                                                                  'conv2d_7[0][0]']               \n",
            "                                                                                                  \n",
            " conv2d_14 (Conv2D)             (None, 50, 50, 128)  295040      ['concatenate[0][0]']            \n",
            "                                                                                                  \n",
            " conv2d_15 (Conv2D)             (None, 50, 50, 64)   73792       ['conv2d_14[0][0]']              \n",
            "                                                                                                  \n",
            " conv2d_16 (Conv2D)             (None, 50, 50, 64)   36928       ['conv2d_15[0][0]']              \n",
            "                                                                                                  \n",
            " up_sampling2d_1 (UpSampling2D)  (None, 100, 100, 64  0          ['conv2d_16[0][0]']              \n",
            "                                )                                                                 \n",
            "                                                                                                  \n",
            " concatenate_1 (Concatenate)    (None, 100, 100, 12  0           ['up_sampling2d_1[0][0]',        \n",
            "                                8)                                'conv2d_3[0][0]']               \n",
            "                                                                                                  \n",
            " conv2d_transpose (Conv2DTransp  (None, 100, 100, 1)  1153       ['concatenate_1[0][0]']          \n",
            " ose)                                                                                             \n",
            "                                                                                                  \n",
            "==================================================================================================\n",
            "Total params: 3,542,977\n",
            "Trainable params: 3,542,977\n",
            "Non-trainable params: 0\n",
            "__________________________________________________________________________________________________\n",
            "Epoch 1/30\n",
            "5/5 [==============================] - 4s 611ms/step - loss: 2.7338\n",
            "Epoch 2/30\n",
            "5/5 [==============================] - 3s 602ms/step - loss: 1.3820\n",
            "Epoch 3/30\n",
            "5/5 [==============================] - 3s 601ms/step - loss: 0.9896\n",
            "Epoch 4/30\n",
            "5/5 [==============================] - 3s 599ms/step - loss: 0.9201\n",
            "Epoch 5/30\n",
            "5/5 [==============================] - 3s 602ms/step - loss: 0.6590\n",
            "Epoch 6/30\n",
            "5/5 [==============================] - 3s 600ms/step - loss: 0.5476\n",
            "Epoch 7/30\n",
            "5/5 [==============================] - 3s 601ms/step - loss: 0.5053\n",
            "Epoch 8/30\n",
            "5/5 [==============================] - 3s 602ms/step - loss: 0.4424\n",
            "Epoch 9/30\n",
            "5/5 [==============================] - 3s 603ms/step - loss: 0.3695\n",
            "Epoch 10/30\n",
            "5/5 [==============================] - 3s 606ms/step - loss: 0.2840\n",
            "Epoch 11/30\n",
            "5/5 [==============================] - 3s 606ms/step - loss: 0.2579\n",
            "Epoch 12/30\n",
            "5/5 [==============================] - 3s 606ms/step - loss: 0.2196\n",
            "Epoch 13/30\n",
            "5/5 [==============================] - 3s 608ms/step - loss: 0.1844\n",
            "Epoch 14/30\n",
            "5/5 [==============================] - 3s 610ms/step - loss: 0.1658\n",
            "Epoch 15/30\n",
            "5/5 [==============================] - 3s 611ms/step - loss: 0.1475\n",
            "Epoch 16/30\n",
            "5/5 [==============================] - 3s 609ms/step - loss: 0.1823\n",
            "Epoch 17/30\n",
            "5/5 [==============================] - 3s 609ms/step - loss: 0.1513\n",
            "Epoch 18/30\n",
            "5/5 [==============================] - 3s 609ms/step - loss: 0.1310\n",
            "Epoch 19/30\n",
            "5/5 [==============================] - 3s 608ms/step - loss: 0.1121\n",
            "Epoch 20/30\n",
            "5/5 [==============================] - 3s 608ms/step - loss: 0.0980\n",
            "Epoch 21/30\n",
            "5/5 [==============================] - 3s 608ms/step - loss: 0.0860\n",
            "Epoch 22/30\n",
            "5/5 [==============================] - 3s 608ms/step - loss: 0.0802\n",
            "Epoch 23/30\n",
            "5/5 [==============================] - 3s 609ms/step - loss: 0.0748\n",
            "Epoch 24/30\n",
            "5/5 [==============================] - 3s 608ms/step - loss: 0.0698\n",
            "Epoch 25/30\n",
            "5/5 [==============================] - 3s 608ms/step - loss: 0.0677\n",
            "Epoch 26/30\n",
            "5/5 [==============================] - 3s 608ms/step - loss: 0.0648\n",
            "Epoch 27/30\n",
            "5/5 [==============================] - 3s 604ms/step - loss: 0.0643\n",
            "Epoch 28/30\n",
            "5/5 [==============================] - 3s 606ms/step - loss: 0.0617\n",
            "Epoch 29/30\n",
            "5/5 [==============================] - 3s 608ms/step - loss: 0.0601\n",
            "Epoch 30/30\n",
            "5/5 [==============================] - 3s 610ms/step - loss: 0.0577\n"
          ]
        },
        {
          "output_type": "execute_result",
          "data": {
            "text/plain": [
              "<keras.callbacks.History at 0x7f5756751fd0>"
            ]
          },
          "metadata": {},
          "execution_count": 22
        }
      ]
    },
    {
      "cell_type": "code",
      "source": [
        "%%time\n",
        "preds_train = model.predict(x_train_500)\n",
        "preds = model.predict(x_test)\n",
        "\n",
        "y_train_maxStress = calculateMaxStress(y_train_500)\n",
        "preds_train_maxStress = calculateMaxStress(preds_train)\n",
        "preds_maxStress = calculateMaxStress(preds)\n",
        "y_test_maxStress = calculateMaxStress(y_test)\n",
        "\n",
        "R2Array_train.append(calculateR2_for_pores(preds_train_maxStress, y_train_maxStress, AVMat))\n",
        "R2Array_test.append(calculateR2_for_pores(preds_maxStress, y_test_maxStress, AVMat))\n",
        "\n",
        "err_train_3ch.append(percentage_err_3channels(preds_train_maxStress, y_train_maxStress))\n",
        "err_test_3ch.append(percentage_err_3channels(preds_maxStress, y_test_maxStress))\n",
        "\n",
        "print(R2Array_train)\n",
        "print(R2Array_test)\n",
        "print(err_train_3ch)\n",
        "print(err_test_3ch)\n",
        "\n",
        "reset_keras(model)"
      ],
      "metadata": {
        "id": "Ap6bcUuuTI2m",
        "colab": {
          "base_uri": "https://localhost:8080/"
        },
        "outputId": "5f88ff41-e216-4a7a-a03c-f7587ebb67c3"
      },
      "execution_count": null,
      "outputs": [
        {
          "output_type": "stream",
          "name": "stdout",
          "text": [
            "[0.11632775341056635, 0.8047277703437148, 0.8353275290369911]\n",
            "[0.11231994939767208, 0.806519120636976, 0.8425205654785838]\n",
            "[79.52430054440384, 28.740943999451854, 25.31203334371032]\n",
            "[79.84819965667673, 27.89405207928108, 24.0945927223758]\n",
            "1415\n",
            "CPU times: user 1.96 s, sys: 29.9 ms, total: 1.99 s\n",
            "Wall time: 2.33 s\n"
          ]
        }
      ]
    },
    {
      "cell_type": "code",
      "source": [
        "#Train with 700 data points\n",
        "model = buildModel()\n",
        "\n",
        "model.fit(x_train_700, y_train_700, \n",
        "          batch_size=batch_size, epochs=epochs, verbose=1)"
      ],
      "metadata": {
        "id": "T41tNrxuVPbI",
        "colab": {
          "base_uri": "https://localhost:8080/"
        },
        "outputId": "e1aa1c79-e679-4136-c552-d1ec34a8da06"
      },
      "execution_count": null,
      "outputs": [
        {
          "output_type": "stream",
          "name": "stdout",
          "text": [
            "Model: \"model\"\n",
            "__________________________________________________________________________________________________\n",
            " Layer (type)                   Output Shape         Param #     Connected to                     \n",
            "==================================================================================================\n",
            " input_1 (InputLayer)           [(None, 100, 100, 1  0           []                               \n",
            "                                )]                                                                \n",
            "                                                                                                  \n",
            " conv2d (Conv2D)                (None, 100, 100, 64  640         ['input_1[0][0]']                \n",
            "                                )                                                                 \n",
            "                                                                                                  \n",
            " conv2d_1 (Conv2D)              (None, 100, 100, 64  36928       ['conv2d[0][0]']                 \n",
            "                                )                                                                 \n",
            "                                                                                                  \n",
            " conv2d_2 (Conv2D)              (None, 100, 100, 64  36928       ['conv2d_1[0][0]']               \n",
            "                                )                                                                 \n",
            "                                                                                                  \n",
            " conv2d_3 (Conv2D)              (None, 100, 100, 64  36928       ['conv2d_2[0][0]']               \n",
            "                                )                                                                 \n",
            "                                                                                                  \n",
            " block1_pool (MaxPooling2D)     (None, 50, 50, 64)   0           ['conv2d_3[0][0]']               \n",
            "                                                                                                  \n",
            " conv2d_4 (Conv2D)              (None, 50, 50, 128)  73856       ['block1_pool[0][0]']            \n",
            "                                                                                                  \n",
            " conv2d_5 (Conv2D)              (None, 50, 50, 128)  147584      ['conv2d_4[0][0]']               \n",
            "                                                                                                  \n",
            " conv2d_6 (Conv2D)              (None, 50, 50, 128)  147584      ['conv2d_5[0][0]']               \n",
            "                                                                                                  \n",
            " conv2d_7 (Conv2D)              (None, 50, 50, 128)  147584      ['conv2d_6[0][0]']               \n",
            "                                                                                                  \n",
            " block2_pool (MaxPooling2D)     (None, 25, 25, 128)  0           ['conv2d_7[0][0]']               \n",
            "                                                                                                  \n",
            " conv2d_8 (Conv2D)              (None, 25, 25, 256)  295168      ['block2_pool[0][0]']            \n",
            "                                                                                                  \n",
            " conv2d_9 (Conv2D)              (None, 25, 25, 256)  590080      ['conv2d_8[0][0]']               \n",
            "                                                                                                  \n",
            " conv2d_10 (Conv2D)             (None, 25, 25, 256)  590080      ['conv2d_9[0][0]']               \n",
            "                                                                                                  \n",
            " conv2d_11 (Conv2D)             (None, 25, 25, 256)  590080      ['conv2d_10[0][0]']              \n",
            "                                                                                                  \n",
            " conv2d_12 (Conv2D)             (None, 25, 25, 128)  295040      ['conv2d_11[0][0]']              \n",
            "                                                                                                  \n",
            " conv2d_13 (Conv2D)             (None, 25, 25, 128)  147584      ['conv2d_12[0][0]']              \n",
            "                                                                                                  \n",
            " up_sampling2d (UpSampling2D)   (None, 50, 50, 128)  0           ['conv2d_13[0][0]']              \n",
            "                                                                                                  \n",
            " concatenate (Concatenate)      (None, 50, 50, 256)  0           ['up_sampling2d[0][0]',          \n",
            "                                                                  'conv2d_7[0][0]']               \n",
            "                                                                                                  \n",
            " conv2d_14 (Conv2D)             (None, 50, 50, 128)  295040      ['concatenate[0][0]']            \n",
            "                                                                                                  \n",
            " conv2d_15 (Conv2D)             (None, 50, 50, 64)   73792       ['conv2d_14[0][0]']              \n",
            "                                                                                                  \n",
            " conv2d_16 (Conv2D)             (None, 50, 50, 64)   36928       ['conv2d_15[0][0]']              \n",
            "                                                                                                  \n",
            " up_sampling2d_1 (UpSampling2D)  (None, 100, 100, 64  0          ['conv2d_16[0][0]']              \n",
            "                                )                                                                 \n",
            "                                                                                                  \n",
            " concatenate_1 (Concatenate)    (None, 100, 100, 12  0           ['up_sampling2d_1[0][0]',        \n",
            "                                8)                                'conv2d_3[0][0]']               \n",
            "                                                                                                  \n",
            " conv2d_transpose (Conv2DTransp  (None, 100, 100, 1)  1153       ['concatenate_1[0][0]']          \n",
            " ose)                                                                                             \n",
            "                                                                                                  \n",
            "==================================================================================================\n",
            "Total params: 3,542,977\n",
            "Trainable params: 3,542,977\n",
            "Non-trainable params: 0\n",
            "__________________________________________________________________________________________________\n",
            "Epoch 1/30\n",
            "7/7 [==============================] - 5s 612ms/step - loss: 1.5151\n",
            "Epoch 2/30\n",
            "7/7 [==============================] - 4s 608ms/step - loss: 1.2191\n",
            "Epoch 3/30\n",
            "7/7 [==============================] - 4s 610ms/step - loss: 0.9222\n",
            "Epoch 4/30\n",
            "7/7 [==============================] - 4s 611ms/step - loss: 0.4200\n",
            "Epoch 5/30\n",
            "7/7 [==============================] - 4s 614ms/step - loss: 0.3067\n",
            "Epoch 6/30\n",
            "7/7 [==============================] - 4s 617ms/step - loss: 0.2397\n",
            "Epoch 7/30\n",
            "7/7 [==============================] - 4s 621ms/step - loss: 0.2199\n",
            "Epoch 8/30\n",
            "7/7 [==============================] - 4s 621ms/step - loss: 0.2098\n",
            "Epoch 9/30\n",
            "7/7 [==============================] - 4s 616ms/step - loss: 0.1940\n",
            "Epoch 10/30\n",
            "7/7 [==============================] - 4s 612ms/step - loss: 0.1709\n",
            "Epoch 11/30\n",
            "7/7 [==============================] - 4s 610ms/step - loss: 0.1484\n",
            "Epoch 12/30\n",
            "7/7 [==============================] - 4s 612ms/step - loss: 0.1220\n",
            "Epoch 13/30\n",
            "7/7 [==============================] - 4s 608ms/step - loss: 0.1082\n",
            "Epoch 14/30\n",
            "7/7 [==============================] - 4s 607ms/step - loss: 0.0903\n",
            "Epoch 15/30\n",
            "7/7 [==============================] - 4s 608ms/step - loss: 0.0823\n",
            "Epoch 16/30\n",
            "7/7 [==============================] - 4s 607ms/step - loss: 0.0751\n",
            "Epoch 17/30\n",
            "7/7 [==============================] - 4s 605ms/step - loss: 0.0694\n",
            "Epoch 18/30\n",
            "7/7 [==============================] - 4s 607ms/step - loss: 0.0634\n",
            "Epoch 19/30\n",
            "7/7 [==============================] - 4s 606ms/step - loss: 0.0634\n",
            "Epoch 20/30\n",
            "7/7 [==============================] - 4s 607ms/step - loss: 0.0602\n",
            "Epoch 21/30\n",
            "7/7 [==============================] - 4s 608ms/step - loss: 0.0549\n",
            "Epoch 22/30\n",
            "7/7 [==============================] - 4s 609ms/step - loss: 0.0515\n",
            "Epoch 23/30\n",
            "7/7 [==============================] - 4s 610ms/step - loss: 0.0500\n",
            "Epoch 24/30\n",
            "7/7 [==============================] - 4s 611ms/step - loss: 0.0525\n",
            "Epoch 25/30\n",
            "7/7 [==============================] - 4s 611ms/step - loss: 0.0497\n",
            "Epoch 26/30\n",
            "7/7 [==============================] - 4s 611ms/step - loss: 0.0475\n",
            "Epoch 27/30\n",
            "7/7 [==============================] - 4s 613ms/step - loss: 0.0447\n",
            "Epoch 28/30\n",
            "7/7 [==============================] - 4s 617ms/step - loss: 0.0452\n",
            "Epoch 29/30\n",
            "7/7 [==============================] - 4s 614ms/step - loss: 0.0452\n",
            "Epoch 30/30\n",
            "7/7 [==============================] - 4s 613ms/step - loss: 0.0432\n"
          ]
        },
        {
          "output_type": "execute_result",
          "data": {
            "text/plain": [
              "<keras.callbacks.History at 0x7f5756442990>"
            ]
          },
          "metadata": {},
          "execution_count": 24
        }
      ]
    },
    {
      "cell_type": "code",
      "source": [
        "%%time\n",
        "preds_train = model.predict(x_train_700)\n",
        "preds = model.predict(x_test)\n",
        "\n",
        "y_train_maxStress = calculateMaxStress(y_train_700)\n",
        "preds_train_maxStress = calculateMaxStress(preds_train)\n",
        "preds_maxStress = calculateMaxStress(preds)\n",
        "y_test_maxStress = calculateMaxStress(y_test)\n",
        "\n",
        "R2Array_train.append(calculateR2_for_pores(preds_train_maxStress, y_train_maxStress, AVMat))\n",
        "R2Array_test.append(calculateR2_for_pores(preds_maxStress, y_test_maxStress, AVMat))\n",
        "\n",
        "err_train_3ch.append(percentage_err_3channels(preds_train_maxStress, y_train_maxStress))\n",
        "err_test_3ch.append(percentage_err_3channels(preds_maxStress, y_test_maxStress))\n",
        "\n",
        "print(R2Array_train)\n",
        "print(R2Array_test)\n",
        "print(err_train_3ch)\n",
        "print(err_test_3ch)\n",
        "\n",
        "reset_keras(model)"
      ],
      "metadata": {
        "id": "8YJ2KKHkVb4O",
        "colab": {
          "base_uri": "https://localhost:8080/"
        },
        "outputId": "c815492a-c19a-41ea-91f0-fdcafbf37503"
      },
      "execution_count": null,
      "outputs": [
        {
          "output_type": "stream",
          "name": "stdout",
          "text": [
            "[0.11632775341056635, 0.8047277703437148, 0.8353275290369911, 0.933023446822288]\n",
            "[0.11231994939767208, 0.806519120636976, 0.8425205654785838, 0.9393813014763865]\n",
            "[79.52430054440384, 28.740943999451854, 25.31203334371032, 14.35362227558815]\n",
            "[79.84819965667673, 27.89405207928108, 24.0945927223758, 13.716130436059546]\n",
            "1399\n",
            "CPU times: user 3.27 s, sys: 30 ms, total: 3.3 s\n",
            "Wall time: 3.62 s\n"
          ]
        }
      ]
    },
    {
      "cell_type": "code",
      "source": [
        "#Train with 900 data points\n",
        "model = buildModel()\n",
        "\n",
        "model.fit(x_train_900, y_train_900, \n",
        "          batch_size=batch_size, epochs=epochs, verbose=1)"
      ],
      "metadata": {
        "colab": {
          "base_uri": "https://localhost:8080/"
        },
        "id": "SeSdglTXXMou",
        "outputId": "1aa426ac-e279-4810-c983-0f69d5161241"
      },
      "execution_count": null,
      "outputs": [
        {
          "output_type": "stream",
          "name": "stdout",
          "text": [
            "Model: \"model\"\n",
            "__________________________________________________________________________________________________\n",
            " Layer (type)                   Output Shape         Param #     Connected to                     \n",
            "==================================================================================================\n",
            " input_1 (InputLayer)           [(None, 100, 100, 1  0           []                               \n",
            "                                )]                                                                \n",
            "                                                                                                  \n",
            " conv2d (Conv2D)                (None, 100, 100, 64  640         ['input_1[0][0]']                \n",
            "                                )                                                                 \n",
            "                                                                                                  \n",
            " conv2d_1 (Conv2D)              (None, 100, 100, 64  36928       ['conv2d[0][0]']                 \n",
            "                                )                                                                 \n",
            "                                                                                                  \n",
            " conv2d_2 (Conv2D)              (None, 100, 100, 64  36928       ['conv2d_1[0][0]']               \n",
            "                                )                                                                 \n",
            "                                                                                                  \n",
            " conv2d_3 (Conv2D)              (None, 100, 100, 64  36928       ['conv2d_2[0][0]']               \n",
            "                                )                                                                 \n",
            "                                                                                                  \n",
            " block1_pool (MaxPooling2D)     (None, 50, 50, 64)   0           ['conv2d_3[0][0]']               \n",
            "                                                                                                  \n",
            " conv2d_4 (Conv2D)              (None, 50, 50, 128)  73856       ['block1_pool[0][0]']            \n",
            "                                                                                                  \n",
            " conv2d_5 (Conv2D)              (None, 50, 50, 128)  147584      ['conv2d_4[0][0]']               \n",
            "                                                                                                  \n",
            " conv2d_6 (Conv2D)              (None, 50, 50, 128)  147584      ['conv2d_5[0][0]']               \n",
            "                                                                                                  \n",
            " conv2d_7 (Conv2D)              (None, 50, 50, 128)  147584      ['conv2d_6[0][0]']               \n",
            "                                                                                                  \n",
            " block2_pool (MaxPooling2D)     (None, 25, 25, 128)  0           ['conv2d_7[0][0]']               \n",
            "                                                                                                  \n",
            " conv2d_8 (Conv2D)              (None, 25, 25, 256)  295168      ['block2_pool[0][0]']            \n",
            "                                                                                                  \n",
            " conv2d_9 (Conv2D)              (None, 25, 25, 256)  590080      ['conv2d_8[0][0]']               \n",
            "                                                                                                  \n",
            " conv2d_10 (Conv2D)             (None, 25, 25, 256)  590080      ['conv2d_9[0][0]']               \n",
            "                                                                                                  \n",
            " conv2d_11 (Conv2D)             (None, 25, 25, 256)  590080      ['conv2d_10[0][0]']              \n",
            "                                                                                                  \n",
            " conv2d_12 (Conv2D)             (None, 25, 25, 128)  295040      ['conv2d_11[0][0]']              \n",
            "                                                                                                  \n",
            " conv2d_13 (Conv2D)             (None, 25, 25, 128)  147584      ['conv2d_12[0][0]']              \n",
            "                                                                                                  \n",
            " up_sampling2d (UpSampling2D)   (None, 50, 50, 128)  0           ['conv2d_13[0][0]']              \n",
            "                                                                                                  \n",
            " concatenate (Concatenate)      (None, 50, 50, 256)  0           ['up_sampling2d[0][0]',          \n",
            "                                                                  'conv2d_7[0][0]']               \n",
            "                                                                                                  \n",
            " conv2d_14 (Conv2D)             (None, 50, 50, 128)  295040      ['concatenate[0][0]']            \n",
            "                                                                                                  \n",
            " conv2d_15 (Conv2D)             (None, 50, 50, 64)   73792       ['conv2d_14[0][0]']              \n",
            "                                                                                                  \n",
            " conv2d_16 (Conv2D)             (None, 50, 50, 64)   36928       ['conv2d_15[0][0]']              \n",
            "                                                                                                  \n",
            " up_sampling2d_1 (UpSampling2D)  (None, 100, 100, 64  0          ['conv2d_16[0][0]']              \n",
            "                                )                                                                 \n",
            "                                                                                                  \n",
            " concatenate_1 (Concatenate)    (None, 100, 100, 12  0           ['up_sampling2d_1[0][0]',        \n",
            "                                8)                                'conv2d_3[0][0]']               \n",
            "                                                                                                  \n",
            " conv2d_transpose (Conv2DTransp  (None, 100, 100, 1)  1153       ['concatenate_1[0][0]']          \n",
            " ose)                                                                                             \n",
            "                                                                                                  \n",
            "==================================================================================================\n",
            "Total params: 3,542,977\n",
            "Trainable params: 3,542,977\n",
            "Non-trainable params: 0\n",
            "__________________________________________________________________________________________________\n",
            "Epoch 1/30\n",
            "9/9 [==============================] - 6s 621ms/step - loss: 5.0364\n",
            "Epoch 2/30\n",
            "9/9 [==============================] - 6s 612ms/step - loss: 1.3719\n",
            "Epoch 3/30\n",
            "9/9 [==============================] - 5s 607ms/step - loss: 1.1023\n",
            "Epoch 4/30\n",
            "9/9 [==============================] - 5s 606ms/step - loss: 0.5537\n",
            "Epoch 5/30\n",
            "9/9 [==============================] - 5s 606ms/step - loss: 0.3845\n",
            "Epoch 6/30\n",
            "9/9 [==============================] - 5s 607ms/step - loss: 0.2378\n",
            "Epoch 7/30\n",
            "9/9 [==============================] - 5s 608ms/step - loss: 0.1764\n",
            "Epoch 8/30\n",
            "9/9 [==============================] - 5s 605ms/step - loss: 0.1485\n",
            "Epoch 9/30\n",
            "9/9 [==============================] - 5s 607ms/step - loss: 0.1270\n",
            "Epoch 10/30\n",
            "9/9 [==============================] - 5s 608ms/step - loss: 0.1052\n",
            "Epoch 11/30\n",
            "9/9 [==============================] - 5s 608ms/step - loss: 0.0946\n",
            "Epoch 12/30\n",
            "9/9 [==============================] - 5s 607ms/step - loss: 0.0828\n",
            "Epoch 13/30\n",
            "9/9 [==============================] - 5s 610ms/step - loss: 0.0729\n",
            "Epoch 14/30\n",
            "9/9 [==============================] - 5s 607ms/step - loss: 0.0672\n",
            "Epoch 15/30\n",
            "9/9 [==============================] - 5s 608ms/step - loss: 0.0665\n",
            "Epoch 16/30\n",
            "9/9 [==============================] - 5s 607ms/step - loss: 0.0605\n",
            "Epoch 17/30\n",
            "9/9 [==============================] - 5s 607ms/step - loss: 0.0573\n",
            "Epoch 18/30\n",
            "9/9 [==============================] - 5s 608ms/step - loss: 0.0588\n",
            "Epoch 19/30\n",
            "9/9 [==============================] - 5s 608ms/step - loss: 0.0533\n",
            "Epoch 20/30\n",
            "9/9 [==============================] - 5s 609ms/step - loss: 0.0508\n",
            "Epoch 21/30\n",
            "9/9 [==============================] - 5s 608ms/step - loss: 0.0502\n",
            "Epoch 22/30\n",
            "9/9 [==============================] - 5s 609ms/step - loss: 0.0482\n",
            "Epoch 23/30\n",
            "9/9 [==============================] - 5s 609ms/step - loss: 0.0483\n",
            "Epoch 24/30\n",
            "9/9 [==============================] - 5s 609ms/step - loss: 0.0440\n",
            "Epoch 25/30\n",
            "9/9 [==============================] - 5s 608ms/step - loss: 0.0473\n",
            "Epoch 26/30\n",
            "9/9 [==============================] - 5s 609ms/step - loss: 0.0467\n",
            "Epoch 27/30\n",
            "9/9 [==============================] - 5s 609ms/step - loss: 0.0429\n",
            "Epoch 28/30\n",
            "9/9 [==============================] - 5s 609ms/step - loss: 0.0414\n",
            "Epoch 29/30\n",
            "9/9 [==============================] - 5s 610ms/step - loss: 0.0404\n",
            "Epoch 30/30\n",
            "9/9 [==============================] - 5s 610ms/step - loss: 0.0402\n"
          ]
        },
        {
          "output_type": "execute_result",
          "data": {
            "text/plain": [
              "<keras.callbacks.History at 0x7f575265df90>"
            ]
          },
          "metadata": {},
          "execution_count": 26
        }
      ]
    },
    {
      "cell_type": "code",
      "source": [
        "%%time\n",
        "\n",
        "preds_train = model.predict(x_train_900)\n",
        "preds = model.predict(x_test)\n",
        "\n",
        "y_train_maxStress = calculateMaxStress(y_train_900)\n",
        "preds_train_maxStress = calculateMaxStress(preds_train)\n",
        "preds_maxStress = calculateMaxStress(preds)\n",
        "y_test_maxStress = calculateMaxStress(y_test)\n",
        "\n",
        "R2Array_train.append(calculateR2_for_pores(preds_train_maxStress, y_train_maxStress, AVMat))\n",
        "R2Array_test.append(calculateR2_for_pores(preds_maxStress, y_test_maxStress, AVMat))\n",
        "\n",
        "err_train_3ch.append(percentage_err_3channels(preds_train_maxStress, y_train_maxStress))\n",
        "err_test_3ch.append(percentage_err_3channels(preds_maxStress, y_test_maxStress))\n",
        "\n",
        "print(R2Array_train)\n",
        "print(R2Array_test)\n",
        "print(err_train_3ch)\n",
        "print(err_test_3ch)\n",
        "\n",
        "reset_keras(model)"
      ],
      "metadata": {
        "colab": {
          "base_uri": "https://localhost:8080/"
        },
        "id": "OnvOYi7NXQSR",
        "outputId": "c4e22908-087c-41f0-c3c2-110a97008143"
      },
      "execution_count": null,
      "outputs": [
        {
          "output_type": "stream",
          "name": "stdout",
          "text": [
            "[0.11632775341056635, 0.8047277703437148, 0.8353275290369911, 0.933023446822288, 0.9069035958567263]\n",
            "[0.11231994939767208, 0.806519120636976, 0.8425205654785838, 0.9393813014763865, 0.9074720884294019]\n",
            "[79.52430054440384, 28.740943999451854, 25.31203334371032, 14.35362227558815, 18.82744158458308]\n",
            "[79.84819965667673, 27.89405207928108, 24.0945927223758, 13.716130436059546, 18.709931167304198]\n",
            "1415\n",
            "CPU times: user 2.81 s, sys: 23 ms, total: 2.83 s\n",
            "Wall time: 3.41 s\n"
          ]
        }
      ]
    },
    {
      "cell_type": "code",
      "source": [
        "#Train with 1100 data points\n",
        "model = buildModel()\n",
        "\n",
        "model.fit(x_train_1100, y_train_1100, \n",
        "          batch_size=batch_size, epochs=epochs, verbose=1)"
      ],
      "metadata": {
        "colab": {
          "base_uri": "https://localhost:8080/"
        },
        "id": "RQmDv-_oXTaM",
        "outputId": "6cfdaafc-1da9-47cc-b8aa-52d47809154d"
      },
      "execution_count": null,
      "outputs": [
        {
          "output_type": "stream",
          "name": "stdout",
          "text": [
            "Model: \"model\"\n",
            "__________________________________________________________________________________________________\n",
            " Layer (type)                   Output Shape         Param #     Connected to                     \n",
            "==================================================================================================\n",
            " input_1 (InputLayer)           [(None, 100, 100, 1  0           []                               \n",
            "                                )]                                                                \n",
            "                                                                                                  \n",
            " conv2d (Conv2D)                (None, 100, 100, 64  640         ['input_1[0][0]']                \n",
            "                                )                                                                 \n",
            "                                                                                                  \n",
            " conv2d_1 (Conv2D)              (None, 100, 100, 64  36928       ['conv2d[0][0]']                 \n",
            "                                )                                                                 \n",
            "                                                                                                  \n",
            " conv2d_2 (Conv2D)              (None, 100, 100, 64  36928       ['conv2d_1[0][0]']               \n",
            "                                )                                                                 \n",
            "                                                                                                  \n",
            " conv2d_3 (Conv2D)              (None, 100, 100, 64  36928       ['conv2d_2[0][0]']               \n",
            "                                )                                                                 \n",
            "                                                                                                  \n",
            " block1_pool (MaxPooling2D)     (None, 50, 50, 64)   0           ['conv2d_3[0][0]']               \n",
            "                                                                                                  \n",
            " conv2d_4 (Conv2D)              (None, 50, 50, 128)  73856       ['block1_pool[0][0]']            \n",
            "                                                                                                  \n",
            " conv2d_5 (Conv2D)              (None, 50, 50, 128)  147584      ['conv2d_4[0][0]']               \n",
            "                                                                                                  \n",
            " conv2d_6 (Conv2D)              (None, 50, 50, 128)  147584      ['conv2d_5[0][0]']               \n",
            "                                                                                                  \n",
            " conv2d_7 (Conv2D)              (None, 50, 50, 128)  147584      ['conv2d_6[0][0]']               \n",
            "                                                                                                  \n",
            " block2_pool (MaxPooling2D)     (None, 25, 25, 128)  0           ['conv2d_7[0][0]']               \n",
            "                                                                                                  \n",
            " conv2d_8 (Conv2D)              (None, 25, 25, 256)  295168      ['block2_pool[0][0]']            \n",
            "                                                                                                  \n",
            " conv2d_9 (Conv2D)              (None, 25, 25, 256)  590080      ['conv2d_8[0][0]']               \n",
            "                                                                                                  \n",
            " conv2d_10 (Conv2D)             (None, 25, 25, 256)  590080      ['conv2d_9[0][0]']               \n",
            "                                                                                                  \n",
            " conv2d_11 (Conv2D)             (None, 25, 25, 256)  590080      ['conv2d_10[0][0]']              \n",
            "                                                                                                  \n",
            " conv2d_12 (Conv2D)             (None, 25, 25, 128)  295040      ['conv2d_11[0][0]']              \n",
            "                                                                                                  \n",
            " conv2d_13 (Conv2D)             (None, 25, 25, 128)  147584      ['conv2d_12[0][0]']              \n",
            "                                                                                                  \n",
            " up_sampling2d (UpSampling2D)   (None, 50, 50, 128)  0           ['conv2d_13[0][0]']              \n",
            "                                                                                                  \n",
            " concatenate (Concatenate)      (None, 50, 50, 256)  0           ['up_sampling2d[0][0]',          \n",
            "                                                                  'conv2d_7[0][0]']               \n",
            "                                                                                                  \n",
            " conv2d_14 (Conv2D)             (None, 50, 50, 128)  295040      ['concatenate[0][0]']            \n",
            "                                                                                                  \n",
            " conv2d_15 (Conv2D)             (None, 50, 50, 64)   73792       ['conv2d_14[0][0]']              \n",
            "                                                                                                  \n",
            " conv2d_16 (Conv2D)             (None, 50, 50, 64)   36928       ['conv2d_15[0][0]']              \n",
            "                                                                                                  \n",
            " up_sampling2d_1 (UpSampling2D)  (None, 100, 100, 64  0          ['conv2d_16[0][0]']              \n",
            "                                )                                                                 \n",
            "                                                                                                  \n",
            " concatenate_1 (Concatenate)    (None, 100, 100, 12  0           ['up_sampling2d_1[0][0]',        \n",
            "                                8)                                'conv2d_3[0][0]']               \n",
            "                                                                                                  \n",
            " conv2d_transpose (Conv2DTransp  (None, 100, 100, 1)  1153       ['concatenate_1[0][0]']          \n",
            " ose)                                                                                             \n",
            "                                                                                                  \n",
            "==================================================================================================\n",
            "Total params: 3,542,977\n",
            "Trainable params: 3,542,977\n",
            "Non-trainable params: 0\n",
            "__________________________________________________________________________________________________\n",
            "Epoch 1/30\n",
            "11/11 [==============================] - 8s 610ms/step - loss: 14.1687\n",
            "Epoch 2/30\n",
            "11/11 [==============================] - 7s 601ms/step - loss: 1.0555\n",
            "Epoch 3/30\n",
            "11/11 [==============================] - 7s 601ms/step - loss: 0.6492\n",
            "Epoch 4/30\n",
            "11/11 [==============================] - 7s 602ms/step - loss: 0.5592\n",
            "Epoch 5/30\n",
            "11/11 [==============================] - 7s 602ms/step - loss: 0.4456\n",
            "Epoch 6/30\n",
            "11/11 [==============================] - 7s 605ms/step - loss: 0.2889\n",
            "Epoch 7/30\n",
            "11/11 [==============================] - 7s 605ms/step - loss: 0.2180\n",
            "Epoch 8/30\n",
            "11/11 [==============================] - 7s 605ms/step - loss: 0.1601\n",
            "Epoch 9/30\n",
            "11/11 [==============================] - 7s 604ms/step - loss: 0.1288\n",
            "Epoch 10/30\n",
            "11/11 [==============================] - 7s 605ms/step - loss: 0.1128\n",
            "Epoch 11/30\n",
            "11/11 [==============================] - 7s 606ms/step - loss: 0.0948\n",
            "Epoch 12/30\n",
            "11/11 [==============================] - 7s 606ms/step - loss: 0.0795\n",
            "Epoch 13/30\n",
            "11/11 [==============================] - 7s 605ms/step - loss: 0.0684\n",
            "Epoch 14/30\n",
            "11/11 [==============================] - 7s 606ms/step - loss: 0.0602\n",
            "Epoch 15/30\n",
            "11/11 [==============================] - 7s 606ms/step - loss: 0.0615\n",
            "Epoch 16/30\n",
            "11/11 [==============================] - 7s 606ms/step - loss: 0.0564\n",
            "Epoch 17/30\n",
            "11/11 [==============================] - 7s 606ms/step - loss: 0.0510\n",
            "Epoch 18/30\n",
            "11/11 [==============================] - 7s 605ms/step - loss: 0.0493\n",
            "Epoch 19/30\n",
            "11/11 [==============================] - 7s 605ms/step - loss: 0.0513\n",
            "Epoch 20/30\n",
            "11/11 [==============================] - 7s 605ms/step - loss: 0.0492\n",
            "Epoch 21/30\n",
            "11/11 [==============================] - 7s 606ms/step - loss: 0.0442\n",
            "Epoch 22/30\n",
            "11/11 [==============================] - 7s 607ms/step - loss: 0.0427\n",
            "Epoch 23/30\n",
            "11/11 [==============================] - 7s 607ms/step - loss: 0.0446\n",
            "Epoch 24/30\n",
            "11/11 [==============================] - 7s 607ms/step - loss: 0.0415\n",
            "Epoch 25/30\n",
            "11/11 [==============================] - 7s 606ms/step - loss: 0.0400\n",
            "Epoch 26/30\n",
            "11/11 [==============================] - 7s 606ms/step - loss: 0.0408\n",
            "Epoch 27/30\n",
            "11/11 [==============================] - 7s 607ms/step - loss: 0.0385\n",
            "Epoch 28/30\n",
            "11/11 [==============================] - 7s 607ms/step - loss: 0.0409\n",
            "Epoch 29/30\n",
            "11/11 [==============================] - 7s 607ms/step - loss: 0.0405\n",
            "Epoch 30/30\n",
            "11/11 [==============================] - 7s 607ms/step - loss: 0.0378\n"
          ]
        },
        {
          "output_type": "execute_result",
          "data": {
            "text/plain": [
              "<keras.callbacks.History at 0x7f5753d34f50>"
            ]
          },
          "metadata": {},
          "execution_count": 28
        }
      ]
    },
    {
      "cell_type": "code",
      "source": [
        "%%time\n",
        "preds_train = model.predict(x_train_1100)\n",
        "preds = model.predict(x_test)"
      ],
      "metadata": {
        "colab": {
          "base_uri": "https://localhost:8080/"
        },
        "id": "sQlxHot2XWTe",
        "outputId": "5ef0391f-fbd4-431f-82f1-74e0b2d1c320"
      },
      "execution_count": null,
      "outputs": [
        {
          "output_type": "stream",
          "name": "stdout",
          "text": [
            "CPU times: user 3.02 s, sys: 42.1 ms, total: 3.06 s\n",
            "Wall time: 3.43 s\n"
          ]
        }
      ]
    },
    {
      "cell_type": "code",
      "source": [
        "y_train_maxStress = calculateMaxStress(y_train_1100)\n",
        "preds_train_maxStress = calculateMaxStress(preds_train)\n",
        "preds_maxStress = calculateMaxStress(preds)\n",
        "y_test_maxStress = calculateMaxStress(y_test)\n",
        "\n",
        "R2Array_train.append(calculateR2_for_pores(preds_train_maxStress, y_train_maxStress, AVMat))\n",
        "R2Array_test.append(calculateR2_for_pores(preds_maxStress, y_test_maxStress, AVMat))\n",
        "\n",
        "err_train_3ch.append(percentage_err_3channels(preds_train_maxStress, y_train_maxStress))\n",
        "err_test_3ch.append(percentage_err_3channels(preds_maxStress, y_test_maxStress))\n",
        "\n",
        "print(R2Array_train)\n",
        "print(R2Array_test)\n",
        "print(err_train_3ch)\n",
        "print(err_test_3ch)\n",
        "\n",
        "reset_keras(model)"
      ],
      "metadata": {
        "colab": {
          "base_uri": "https://localhost:8080/"
        },
        "id": "7XuJPmgNXW2l",
        "outputId": "03052ec6-06e7-40e4-9130-af0485bb1bbe"
      },
      "execution_count": null,
      "outputs": [
        {
          "output_type": "stream",
          "name": "stdout",
          "text": [
            "[0.11632775341056635, 0.8047277703437148, 0.8353275290369911, 0.933023446822288, 0.9069035958567263, 0.9613592529403653]\n",
            "[0.11231994939767208, 0.806519120636976, 0.8425205654785838, 0.9393813014763865, 0.9074720884294019, 0.9600520694235727]\n",
            "[79.52430054440384, 28.740943999451854, 25.31203334371032, 14.35362227558815, 18.82744158458308, 11.109429290826549]\n",
            "[79.84819965667673, 27.89405207928108, 24.0945927223758, 13.716130436059546, 18.709931167304198, 12.049050831481827]\n",
            "2117\n"
          ]
        }
      ]
    },
    {
      "cell_type": "code",
      "source": [
        "#Train with 1300 data points\n",
        "model = buildModel()\n",
        "\n",
        "model.fit(x_train_1300, y_train_1300, \n",
        "          batch_size=batch_size, epochs=epochs, verbose=1)"
      ],
      "metadata": {
        "colab": {
          "base_uri": "https://localhost:8080/"
        },
        "id": "U1w9seZrXajw",
        "outputId": "1702783f-b598-4bec-9ff5-7209665ea87e"
      },
      "execution_count": null,
      "outputs": [
        {
          "output_type": "stream",
          "name": "stdout",
          "text": [
            "Model: \"model\"\n",
            "__________________________________________________________________________________________________\n",
            " Layer (type)                   Output Shape         Param #     Connected to                     \n",
            "==================================================================================================\n",
            " input_1 (InputLayer)           [(None, 100, 100, 1  0           []                               \n",
            "                                )]                                                                \n",
            "                                                                                                  \n",
            " conv2d (Conv2D)                (None, 100, 100, 64  640         ['input_1[0][0]']                \n",
            "                                )                                                                 \n",
            "                                                                                                  \n",
            " conv2d_1 (Conv2D)              (None, 100, 100, 64  36928       ['conv2d[0][0]']                 \n",
            "                                )                                                                 \n",
            "                                                                                                  \n",
            " conv2d_2 (Conv2D)              (None, 100, 100, 64  36928       ['conv2d_1[0][0]']               \n",
            "                                )                                                                 \n",
            "                                                                                                  \n",
            " conv2d_3 (Conv2D)              (None, 100, 100, 64  36928       ['conv2d_2[0][0]']               \n",
            "                                )                                                                 \n",
            "                                                                                                  \n",
            " block1_pool (MaxPooling2D)     (None, 50, 50, 64)   0           ['conv2d_3[0][0]']               \n",
            "                                                                                                  \n",
            " conv2d_4 (Conv2D)              (None, 50, 50, 128)  73856       ['block1_pool[0][0]']            \n",
            "                                                                                                  \n",
            " conv2d_5 (Conv2D)              (None, 50, 50, 128)  147584      ['conv2d_4[0][0]']               \n",
            "                                                                                                  \n",
            " conv2d_6 (Conv2D)              (None, 50, 50, 128)  147584      ['conv2d_5[0][0]']               \n",
            "                                                                                                  \n",
            " conv2d_7 (Conv2D)              (None, 50, 50, 128)  147584      ['conv2d_6[0][0]']               \n",
            "                                                                                                  \n",
            " block2_pool (MaxPooling2D)     (None, 25, 25, 128)  0           ['conv2d_7[0][0]']               \n",
            "                                                                                                  \n",
            " conv2d_8 (Conv2D)              (None, 25, 25, 256)  295168      ['block2_pool[0][0]']            \n",
            "                                                                                                  \n",
            " conv2d_9 (Conv2D)              (None, 25, 25, 256)  590080      ['conv2d_8[0][0]']               \n",
            "                                                                                                  \n",
            " conv2d_10 (Conv2D)             (None, 25, 25, 256)  590080      ['conv2d_9[0][0]']               \n",
            "                                                                                                  \n",
            " conv2d_11 (Conv2D)             (None, 25, 25, 256)  590080      ['conv2d_10[0][0]']              \n",
            "                                                                                                  \n",
            " conv2d_12 (Conv2D)             (None, 25, 25, 128)  295040      ['conv2d_11[0][0]']              \n",
            "                                                                                                  \n",
            " conv2d_13 (Conv2D)             (None, 25, 25, 128)  147584      ['conv2d_12[0][0]']              \n",
            "                                                                                                  \n",
            " up_sampling2d (UpSampling2D)   (None, 50, 50, 128)  0           ['conv2d_13[0][0]']              \n",
            "                                                                                                  \n",
            " concatenate (Concatenate)      (None, 50, 50, 256)  0           ['up_sampling2d[0][0]',          \n",
            "                                                                  'conv2d_7[0][0]']               \n",
            "                                                                                                  \n",
            " conv2d_14 (Conv2D)             (None, 50, 50, 128)  295040      ['concatenate[0][0]']            \n",
            "                                                                                                  \n",
            " conv2d_15 (Conv2D)             (None, 50, 50, 64)   73792       ['conv2d_14[0][0]']              \n",
            "                                                                                                  \n",
            " conv2d_16 (Conv2D)             (None, 50, 50, 64)   36928       ['conv2d_15[0][0]']              \n",
            "                                                                                                  \n",
            " up_sampling2d_1 (UpSampling2D)  (None, 100, 100, 64  0          ['conv2d_16[0][0]']              \n",
            "                                )                                                                 \n",
            "                                                                                                  \n",
            " concatenate_1 (Concatenate)    (None, 100, 100, 12  0           ['up_sampling2d_1[0][0]',        \n",
            "                                8)                                'conv2d_3[0][0]']               \n",
            "                                                                                                  \n",
            " conv2d_transpose (Conv2DTransp  (None, 100, 100, 1)  1153       ['concatenate_1[0][0]']          \n",
            " ose)                                                                                             \n",
            "                                                                                                  \n",
            "==================================================================================================\n",
            "Total params: 3,542,977\n",
            "Trainable params: 3,542,977\n",
            "Non-trainable params: 0\n",
            "__________________________________________________________________________________________________\n",
            "Epoch 1/30\n",
            "13/13 [==============================] - 9s 609ms/step - loss: 2.1733\n",
            "Epoch 2/30\n",
            "13/13 [==============================] - 8s 601ms/step - loss: 0.7875\n",
            "Epoch 3/30\n",
            "13/13 [==============================] - 8s 600ms/step - loss: 0.5426\n",
            "Epoch 4/30\n",
            "13/13 [==============================] - 8s 602ms/step - loss: 0.3874\n",
            "Epoch 5/30\n",
            "13/13 [==============================] - 8s 607ms/step - loss: 0.2254\n",
            "Epoch 6/30\n",
            "13/13 [==============================] - 8s 608ms/step - loss: 0.1875\n",
            "Epoch 7/30\n",
            "13/13 [==============================] - 8s 608ms/step - loss: 0.1745\n",
            "Epoch 8/30\n",
            "13/13 [==============================] - 8s 607ms/step - loss: 0.1269\n",
            "Epoch 9/30\n",
            "13/13 [==============================] - 8s 608ms/step - loss: 0.0955\n",
            "Epoch 10/30\n",
            "13/13 [==============================] - 8s 610ms/step - loss: 0.0789\n",
            "Epoch 11/30\n",
            "13/13 [==============================] - 8s 608ms/step - loss: 0.0675\n",
            "Epoch 12/30\n",
            "13/13 [==============================] - 8s 609ms/step - loss: 0.0597\n",
            "Epoch 13/30\n",
            "13/13 [==============================] - 8s 609ms/step - loss: 0.0527\n",
            "Epoch 14/30\n",
            "13/13 [==============================] - 8s 610ms/step - loss: 0.0517\n",
            "Epoch 15/30\n",
            "13/13 [==============================] - 8s 609ms/step - loss: 0.0481\n",
            "Epoch 16/30\n",
            "13/13 [==============================] - 8s 609ms/step - loss: 0.0444\n",
            "Epoch 17/30\n",
            "13/13 [==============================] - 8s 611ms/step - loss: 0.0428\n",
            "Epoch 18/30\n",
            "13/13 [==============================] - 8s 610ms/step - loss: 0.0419\n",
            "Epoch 19/30\n",
            "13/13 [==============================] - 8s 609ms/step - loss: 0.0413\n",
            "Epoch 20/30\n",
            "13/13 [==============================] - 8s 610ms/step - loss: 0.0392\n",
            "Epoch 21/30\n",
            "13/13 [==============================] - 8s 609ms/step - loss: 0.0370\n",
            "Epoch 22/30\n",
            "13/13 [==============================] - 8s 609ms/step - loss: 0.0367\n",
            "Epoch 23/30\n",
            "13/13 [==============================] - 8s 609ms/step - loss: 0.0372\n",
            "Epoch 24/30\n",
            "13/13 [==============================] - 8s 609ms/step - loss: 0.0365\n",
            "Epoch 25/30\n",
            "13/13 [==============================] - 8s 609ms/step - loss: 0.0341\n",
            "Epoch 26/30\n",
            "13/13 [==============================] - 8s 609ms/step - loss: 0.0326\n",
            "Epoch 27/30\n",
            "13/13 [==============================] - 8s 610ms/step - loss: 0.0347\n",
            "Epoch 28/30\n",
            "13/13 [==============================] - 8s 610ms/step - loss: 0.0331\n",
            "Epoch 29/30\n",
            "13/13 [==============================] - 8s 610ms/step - loss: 0.0329\n",
            "Epoch 30/30\n",
            "13/13 [==============================] - 8s 609ms/step - loss: 0.0310\n"
          ]
        },
        {
          "output_type": "execute_result",
          "data": {
            "text/plain": [
              "<keras.callbacks.History at 0x7f5753d5ffd0>"
            ]
          },
          "metadata": {},
          "execution_count": 31
        }
      ]
    },
    {
      "cell_type": "code",
      "source": [
        "%%time\n",
        "preds_train = model.predict(x_train_1300)\n",
        "preds = model.predict(x_test)"
      ],
      "metadata": {
        "colab": {
          "base_uri": "https://localhost:8080/"
        },
        "id": "KC2bh4SeXcAn",
        "outputId": "6e60e9e7-b5a7-4c83-b484-f8ea3999df28"
      },
      "execution_count": null,
      "outputs": [
        {
          "output_type": "stream",
          "name": "stdout",
          "text": [
            "CPU times: user 3.48 s, sys: 35 ms, total: 3.51 s\n",
            "Wall time: 3.47 s\n"
          ]
        }
      ]
    },
    {
      "cell_type": "code",
      "source": [
        "y_train_maxStress = calculateMaxStress(y_train_1300)\n",
        "preds_train_maxStress = calculateMaxStress(preds_train)\n",
        "preds_maxStress = calculateMaxStress(preds)\n",
        "y_test_maxStress = calculateMaxStress(y_test)\n",
        "\n",
        "R2Array_train.append(calculateR2_for_pores(preds_train_maxStress, y_train_maxStress, AVMat))\n",
        "R2Array_test.append(calculateR2_for_pores(preds_maxStress, y_test_maxStress, AVMat))\n",
        "\n",
        "err_train_3ch.append(percentage_err_3channels(preds_train_maxStress, y_train_maxStress))\n",
        "err_test_3ch.append(percentage_err_3channels(preds_maxStress, y_test_maxStress))\n",
        "\n",
        "print(R2Array_train)\n",
        "print(R2Array_test)\n",
        "print(err_train_3ch)\n",
        "print(err_test_3ch)\n",
        "\n",
        "reset_keras(model)"
      ],
      "metadata": {
        "colab": {
          "base_uri": "https://localhost:8080/"
        },
        "id": "IAMPjvR9Xc2z",
        "outputId": "977c509b-b08e-4d25-cb76-f8000cb3922b"
      },
      "execution_count": null,
      "outputs": [
        {
          "output_type": "stream",
          "name": "stdout",
          "text": [
            "[0.11632775341056635, 0.8047277703437148, 0.8353275290369911, 0.933023446822288, 0.9069035958567263, 0.9613592529403653, 0.9446216159703881]\n",
            "[0.11231994939767208, 0.806519120636976, 0.8425205654785838, 0.9393813014763865, 0.9074720884294019, 0.9600520694235727, 0.9442819414175052]\n",
            "[79.52430054440384, 28.740943999451854, 25.31203334371032, 14.35362227558815, 18.82744158458308, 11.109429290826549, 13.44481660295645]\n",
            "[79.84819965667673, 27.89405207928108, 24.0945927223758, 13.716130436059546, 18.709931167304198, 12.049050831481827, 14.009658433019478]\n",
            "1399\n"
          ]
        }
      ]
    },
    {
      "cell_type": "code",
      "source": [
        "#Train with 1620 data points\n",
        "model = buildModel()\n",
        "\n",
        "model.fit(x_train_1620, y_train_1620, batch_size=batch_size, epochs=epochs, verbose=1)"
      ],
      "metadata": {
        "colab": {
          "base_uri": "https://localhost:8080/"
        },
        "id": "d7LNyFg7XgJy",
        "outputId": "992e8c6e-1126-4c1a-eacd-98e42b616883"
      },
      "execution_count": null,
      "outputs": [
        {
          "output_type": "stream",
          "name": "stdout",
          "text": [
            "Model: \"model\"\n",
            "__________________________________________________________________________________________________\n",
            " Layer (type)                   Output Shape         Param #     Connected to                     \n",
            "==================================================================================================\n",
            " input_1 (InputLayer)           [(None, 100, 100, 1  0           []                               \n",
            "                                )]                                                                \n",
            "                                                                                                  \n",
            " conv2d (Conv2D)                (None, 100, 100, 64  640         ['input_1[0][0]']                \n",
            "                                )                                                                 \n",
            "                                                                                                  \n",
            " conv2d_1 (Conv2D)              (None, 100, 100, 64  36928       ['conv2d[0][0]']                 \n",
            "                                )                                                                 \n",
            "                                                                                                  \n",
            " conv2d_2 (Conv2D)              (None, 100, 100, 64  36928       ['conv2d_1[0][0]']               \n",
            "                                )                                                                 \n",
            "                                                                                                  \n",
            " conv2d_3 (Conv2D)              (None, 100, 100, 64  36928       ['conv2d_2[0][0]']               \n",
            "                                )                                                                 \n",
            "                                                                                                  \n",
            " block1_pool (MaxPooling2D)     (None, 50, 50, 64)   0           ['conv2d_3[0][0]']               \n",
            "                                                                                                  \n",
            " conv2d_4 (Conv2D)              (None, 50, 50, 128)  73856       ['block1_pool[0][0]']            \n",
            "                                                                                                  \n",
            " conv2d_5 (Conv2D)              (None, 50, 50, 128)  147584      ['conv2d_4[0][0]']               \n",
            "                                                                                                  \n",
            " conv2d_6 (Conv2D)              (None, 50, 50, 128)  147584      ['conv2d_5[0][0]']               \n",
            "                                                                                                  \n",
            " conv2d_7 (Conv2D)              (None, 50, 50, 128)  147584      ['conv2d_6[0][0]']               \n",
            "                                                                                                  \n",
            " block2_pool (MaxPooling2D)     (None, 25, 25, 128)  0           ['conv2d_7[0][0]']               \n",
            "                                                                                                  \n",
            " conv2d_8 (Conv2D)              (None, 25, 25, 256)  295168      ['block2_pool[0][0]']            \n",
            "                                                                                                  \n",
            " conv2d_9 (Conv2D)              (None, 25, 25, 256)  590080      ['conv2d_8[0][0]']               \n",
            "                                                                                                  \n",
            " conv2d_10 (Conv2D)             (None, 25, 25, 256)  590080      ['conv2d_9[0][0]']               \n",
            "                                                                                                  \n",
            " conv2d_11 (Conv2D)             (None, 25, 25, 256)  590080      ['conv2d_10[0][0]']              \n",
            "                                                                                                  \n",
            " conv2d_12 (Conv2D)             (None, 25, 25, 128)  295040      ['conv2d_11[0][0]']              \n",
            "                                                                                                  \n",
            " conv2d_13 (Conv2D)             (None, 25, 25, 128)  147584      ['conv2d_12[0][0]']              \n",
            "                                                                                                  \n",
            " up_sampling2d (UpSampling2D)   (None, 50, 50, 128)  0           ['conv2d_13[0][0]']              \n",
            "                                                                                                  \n",
            " concatenate (Concatenate)      (None, 50, 50, 256)  0           ['up_sampling2d[0][0]',          \n",
            "                                                                  'conv2d_7[0][0]']               \n",
            "                                                                                                  \n",
            " conv2d_14 (Conv2D)             (None, 50, 50, 128)  295040      ['concatenate[0][0]']            \n",
            "                                                                                                  \n",
            " conv2d_15 (Conv2D)             (None, 50, 50, 64)   73792       ['conv2d_14[0][0]']              \n",
            "                                                                                                  \n",
            " conv2d_16 (Conv2D)             (None, 50, 50, 64)   36928       ['conv2d_15[0][0]']              \n",
            "                                                                                                  \n",
            " up_sampling2d_1 (UpSampling2D)  (None, 100, 100, 64  0          ['conv2d_16[0][0]']              \n",
            "                                )                                                                 \n",
            "                                                                                                  \n",
            " concatenate_1 (Concatenate)    (None, 100, 100, 12  0           ['up_sampling2d_1[0][0]',        \n",
            "                                8)                                'conv2d_3[0][0]']               \n",
            "                                                                                                  \n",
            " conv2d_transpose (Conv2DTransp  (None, 100, 100, 1)  1153       ['concatenate_1[0][0]']          \n",
            " ose)                                                                                             \n",
            "                                                                                                  \n",
            "==================================================================================================\n",
            "Total params: 3,542,977\n",
            "Trainable params: 3,542,977\n",
            "Non-trainable params: 0\n",
            "__________________________________________________________________________________________________\n",
            "Epoch 1/30\n",
            "17/17 [==============================] - 12s 642ms/step - loss: 4.4538\n",
            "Epoch 2/30\n",
            "17/17 [==============================] - 10s 578ms/step - loss: 0.6722\n",
            "Epoch 3/30\n",
            "17/17 [==============================] - 10s 583ms/step - loss: 0.4522\n",
            "Epoch 4/30\n",
            "17/17 [==============================] - 10s 582ms/step - loss: 0.2481\n",
            "Epoch 5/30\n",
            "17/17 [==============================] - 10s 576ms/step - loss: 0.1590\n",
            "Epoch 6/30\n",
            "17/17 [==============================] - 10s 574ms/step - loss: 0.1229\n",
            "Epoch 7/30\n",
            "17/17 [==============================] - 10s 572ms/step - loss: 0.0950\n",
            "Epoch 8/30\n",
            "17/17 [==============================] - 10s 572ms/step - loss: 0.0859\n",
            "Epoch 9/30\n",
            "17/17 [==============================] - 10s 575ms/step - loss: 0.0659\n",
            "Epoch 10/30\n",
            "17/17 [==============================] - 10s 577ms/step - loss: 0.0568\n",
            "Epoch 11/30\n",
            "17/17 [==============================] - 10s 580ms/step - loss: 0.0534\n",
            "Epoch 12/30\n",
            "17/17 [==============================] - 10s 580ms/step - loss: 0.0502\n",
            "Epoch 13/30\n",
            "17/17 [==============================] - 10s 581ms/step - loss: 0.0484\n",
            "Epoch 14/30\n",
            "17/17 [==============================] - 10s 579ms/step - loss: 0.0537\n",
            "Epoch 15/30\n",
            "17/17 [==============================] - 10s 578ms/step - loss: 0.0451\n",
            "Epoch 16/30\n",
            "17/17 [==============================] - 10s 577ms/step - loss: 0.0420\n",
            "Epoch 17/30\n",
            "17/17 [==============================] - 10s 577ms/step - loss: 0.0410\n",
            "Epoch 18/30\n",
            "17/17 [==============================] - 10s 578ms/step - loss: 0.0384\n",
            "Epoch 19/30\n",
            "17/17 [==============================] - 10s 579ms/step - loss: 0.0369\n",
            "Epoch 20/30\n",
            "17/17 [==============================] - 10s 578ms/step - loss: 0.0417\n",
            "Epoch 21/30\n",
            "17/17 [==============================] - 10s 579ms/step - loss: 0.0368\n",
            "Epoch 22/30\n",
            "17/17 [==============================] - 10s 580ms/step - loss: 0.0347\n",
            "Epoch 23/30\n",
            "17/17 [==============================] - 10s 579ms/step - loss: 0.0353\n",
            "Epoch 24/30\n",
            "17/17 [==============================] - 10s 580ms/step - loss: 0.0346\n",
            "Epoch 25/30\n",
            "17/17 [==============================] - 10s 579ms/step - loss: 0.0342\n",
            "Epoch 26/30\n",
            "17/17 [==============================] - 10s 579ms/step - loss: 0.0320\n",
            "Epoch 27/30\n",
            "17/17 [==============================] - 10s 580ms/step - loss: 0.0354\n",
            "Epoch 28/30\n",
            "17/17 [==============================] - 10s 580ms/step - loss: 0.0309\n",
            "Epoch 29/30\n",
            "17/17 [==============================] - 10s 580ms/step - loss: 0.0299\n",
            "Epoch 30/30\n",
            "17/17 [==============================] - 10s 581ms/step - loss: 0.0300\n"
          ]
        },
        {
          "output_type": "execute_result",
          "data": {
            "text/plain": [
              "<keras.callbacks.History at 0x7f575303cc10>"
            ]
          },
          "metadata": {},
          "execution_count": 34
        }
      ]
    },
    {
      "cell_type": "code",
      "source": [
        "%%time\n",
        "preds_train = model.predict(x_train_1620)\n",
        "preds = model.predict(x_test)"
      ],
      "metadata": {
        "colab": {
          "base_uri": "https://localhost:8080/"
        },
        "id": "Y8gBR7rUXh_S",
        "outputId": "9dffe9f8-6e64-4eb5-84aa-a22146e3638e"
      },
      "execution_count": null,
      "outputs": [
        {
          "output_type": "stream",
          "name": "stdout",
          "text": [
            "CPU times: user 4.19 s, sys: 38.1 ms, total: 4.22 s\n",
            "Wall time: 4.29 s\n"
          ]
        }
      ]
    },
    {
      "cell_type": "code",
      "source": [
        "y_train_maxStress = calculateMaxStress(y_train_1620)\n",
        "preds_train_maxStress = calculateMaxStress(preds_train)\n",
        "preds_maxStress = calculateMaxStress(preds)\n",
        "y_test_maxStress = calculateMaxStress(y_test)\n",
        "\n",
        "R2Array_train.append(calculateR2_for_pores(preds_train_maxStress, y_train_maxStress, AVMat))\n",
        "R2Array_test.append(calculateR2_for_pores(preds_maxStress, y_test_maxStress, AVMat))\n",
        "\n",
        "err_train_3ch.append(percentage_err_3channels(preds_train_maxStress, y_train_maxStress))\n",
        "err_test_3ch.append(percentage_err_3channels(preds_maxStress, y_test_maxStress))\n",
        "\n",
        "print(R2Array_train)\n",
        "print(R2Array_test)\n",
        "print(err_train_3ch)\n",
        "print(err_test_3ch)"
      ],
      "metadata": {
        "colab": {
          "base_uri": "https://localhost:8080/"
        },
        "id": "gRMvFueUXjio",
        "outputId": "78128665-8124-4cbc-b158-939d134b7212"
      },
      "execution_count": null,
      "outputs": [
        {
          "output_type": "stream",
          "name": "stdout",
          "text": [
            "[0.11632775341056635, 0.8047277703437148, 0.8353275290369911, 0.933023446822288, 0.9069035958567263, 0.9613592529403653, 0.9446216159703881, 0.9706031614988909]\n",
            "[0.11231994939767208, 0.806519120636976, 0.8425205654785838, 0.9393813014763865, 0.9074720884294019, 0.9600520694235727, 0.9442819414175052, 0.9725024802770688]\n",
            "[79.52430054440384, 28.740943999451854, 25.31203334371032, 14.35362227558815, 18.82744158458308, 11.109429290826549, 13.44481660295645, 10.083641015982689]\n",
            "[79.84819965667673, 27.89405207928108, 24.0945927223758, 13.716130436059546, 18.709931167304198, 12.049050831481827, 14.009658433019478, 10.175214251848965]\n"
          ]
        }
      ]
    }
  ]
}